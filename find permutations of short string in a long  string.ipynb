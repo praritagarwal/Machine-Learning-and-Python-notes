{
 "cells": [
  {
   "cell_type": "markdown",
   "metadata": {},
   "source": [
    "## Problem Statement: \n",
    "\n",
    "Given a smaller string and a bigger string, design an algorithm to find all permutations of the shorter string within the longer one. Print the location of each permutation. Assume a case insensitive search. "
   ]
  },
  {
   "cell_type": "code",
   "execution_count": 1,
   "metadata": {},
   "outputs": [],
   "source": [
    "import sys"
   ]
  },
  {
   "cell_type": "code",
   "execution_count": 2,
   "metadata": {},
   "outputs": [
    {
     "name": "stdout",
     "output_type": "stream",
     "text": [
      "input a short string: ABC\n",
      "input a long string: Tracebackkcabecart\n"
     ]
    }
   ],
   "source": [
    "short = input('input a short string: ')\n",
    "long = input('input a long string: ')"
   ]
  },
  {
   "cell_type": "code",
   "execution_count": 3,
   "metadata": {},
   "outputs": [],
   "source": [
    "if len(long) < len(short):\n",
    "    print('Terminating: The long string is shorter than the short string so cannot contain any of its permutations')\n",
    "    sys.exit()"
   ]
  },
  {
   "cell_type": "code",
   "execution_count": 4,
   "metadata": {},
   "outputs": [
    {
     "name": "stdout",
     "output_type": "stream",
     "text": [
      "The short string is: abc\n",
      "The long string is: tracebackkcabecart\n"
     ]
    }
   ],
   "source": [
    "# since case insensitive, convert both the strings to lower case\n",
    "short = short.lower()\n",
    "long = long.lower()\n",
    "print('The short string is: {}'.format(short))\n",
    "print('The long string is: {}'.format(long))"
   ]
  },
  {
   "cell_type": "code",
   "execution_count": 5,
   "metadata": {},
   "outputs": [],
   "source": [
    "# create a hash map containing the count of all the alphabets in the short string \n",
    "from collections import Counter\n",
    "import copy \n",
    "\n",
    "short_hash = Counter(short)\n",
    "hash_copy = copy.deepcopy(short_hash)"
   ]
  },
  {
   "cell_type": "code",
   "execution_count": 6,
   "metadata": {},
   "outputs": [],
   "source": [
    "short_len = len(short)\n",
    "long_len = len(long)\n",
    "\n",
    "start = 0\n",
    "list_loc=[]"
   ]
  },
  {
   "cell_type": "code",
   "execution_count": 7,
   "metadata": {},
   "outputs": [],
   "source": [
    "# function to check that all the alphabets in hash_copy have a value zero\n",
    "def checkhash():\n",
    "    for key, value in hash_copy.items():\n",
    "        if value!=0:\n",
    "            return False\n",
    "    \n",
    "    return True"
   ]
  },
  {
   "cell_type": "code",
   "execution_count": 8,
   "metadata": {},
   "outputs": [],
   "source": [
    "# function to update hash_copy upon sliding the window\n",
    "def revise_hash_copy(start):\n",
    "        ch = long[start]\n",
    "        if short_hash[ch] > 0:\n",
    "            hash_copy[ch]+=1"
   ]
  },
  {
   "cell_type": "code",
   "execution_count": 9,
   "metadata": {},
   "outputs": [],
   "source": [
    "# checkout the first s alphabets in the long string (s denotes the length of short string)\n",
    "for itr in range(short_len):\n",
    "     if short_hash[long[itr]] > 0:\n",
    "        hash_copy[long[itr]]-=1"
   ]
  },
  {
   "cell_type": "code",
   "execution_count": 10,
   "metadata": {},
   "outputs": [],
   "source": [
    "# check if first s alphabets in the long string are a permutation of the short string\n",
    "chk = checkhash()\n",
    "\n",
    "if chk == True:\n",
    "    list_loc.append(start)"
   ]
  },
  {
   "cell_type": "code",
   "execution_count": 11,
   "metadata": {},
   "outputs": [],
   "source": [
    "# find permuations of the short string in the long string\n",
    "for itr2 in range(short_len, long_len):\n",
    "        revise_hash_copy(start)\n",
    "        start = itr2-short_len+1\n",
    "        if short_hash[long[itr2]] > 0:\n",
    "            hash_copy[long[itr2]]-=1\n",
    "        chk = checkhash()\n",
    "        if chk == True:\n",
    "            list_loc.append(start)"
   ]
  },
  {
   "cell_type": "code",
   "execution_count": 12,
   "metadata": {},
   "outputs": [
    {
     "data": {
      "text/plain": [
       "[5, 10]"
      ]
     },
     "execution_count": 12,
     "metadata": {},
     "output_type": "execute_result"
    }
   ],
   "source": [
    "list_loc"
   ]
  },
  {
   "cell_type": "code",
   "execution_count": null,
   "metadata": {},
   "outputs": [],
   "source": []
  }
 ],
 "metadata": {
  "kernelspec": {
   "display_name": "Python 3",
   "language": "python",
   "name": "python3"
  },
  "language_info": {
   "codemirror_mode": {
    "name": "ipython",
    "version": 3
   },
   "file_extension": ".py",
   "mimetype": "text/x-python",
   "name": "python",
   "nbconvert_exporter": "python",
   "pygments_lexer": "ipython3",
   "version": "3.7.1"
  }
 },
 "nbformat": 4,
 "nbformat_minor": 2
}
