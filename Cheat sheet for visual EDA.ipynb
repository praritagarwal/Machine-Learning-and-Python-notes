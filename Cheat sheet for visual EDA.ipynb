{
 "cells": [
  {
   "cell_type": "markdown",
   "metadata": {},
   "source": [
    "# Things to notice when eyeballing the data"
   ]
  },
  {
   "cell_type": "markdown",
   "metadata": {},
   "source": [
    "-  __relative range of different features__: All the features should have approximately the same range. It is usually preferable to normalize all the features to take values between 0 and 1. Make sure that you use only the training data to establish the parameters of preprocessing. "
   ]
  },
  {
   "cell_type": "markdown",
   "metadata": {},
   "source": [
    "- __the distribution of each feature__: It is preferable that the data follows a Gaussian distribution. If not, then apply some transformation such as taking logs, to arrive at a transformed feature that follows a Gaussian. "
   ]
  },
  {
   "cell_type": "markdown",
   "metadata": {},
   "source": [
    "- __are there missing values__: If yes, then either remove the corresponding samples or else, fill them with an appropriate mean value"
   ]
  },
  {
   "cell_type": "markdown",
   "metadata": {},
   "source": [
    "- __To detect and deal with missing values__: see the blog post [here](https://chartio.com/resources/tutorials/how-to-check-if-any-value-is-nan-in-a-pandas-dataframe/) and [here](https://towardsdatascience.com/data-cleaning-with-python-and-pandas-detecting-missing-values-3e9c6ebcf78b) "
   ]
  },
  {
   "cell_type": "markdown",
   "metadata": {},
   "source": [
    "- __are there feature which are highly correlated to each other__: This can be established by looking at the heat map between the features. Features that are highly correlated to each other do not provide independent information. Applying a PCA to a dataset will help find independent features which will make the data more manageble. "
   ]
  },
  {
   "cell_type": "markdown",
   "metadata": {},
   "source": [
    "- __are there imbalanced classes in the data__: If yes, then merely having a high accuracy in the predictions will not necessarily imply that a good fit has been obtained. In this case metrics such as precision, recall, $F_\\beta$-scores and ROC are much better indicators of the goodness of our fit. "
   ]
  },
  {
   "cell_type": "markdown",
   "metadata": {},
   "source": [
    "- __no. of categories for categorical features__ :  find the no. of different values that a categorical feature can take. These will need to be one-hot-encoded to deal with them"
   ]
  },
  {
   "cell_type": "code",
   "execution_count": null,
   "metadata": {},
   "outputs": [],
   "source": []
  }
 ],
 "metadata": {
  "kernelspec": {
   "display_name": "Python 3",
   "language": "python",
   "name": "python3"
  },
  "language_info": {
   "codemirror_mode": {
    "name": "ipython",
    "version": 3
   },
   "file_extension": ".py",
   "mimetype": "text/x-python",
   "name": "python",
   "nbconvert_exporter": "python",
   "pygments_lexer": "ipython3",
   "version": "3.7.1"
  }
 },
 "nbformat": 4,
 "nbformat_minor": 2
}
