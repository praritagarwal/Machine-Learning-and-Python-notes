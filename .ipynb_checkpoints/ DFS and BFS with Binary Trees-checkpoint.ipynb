{
 "cells": [
  {
   "cell_type": "markdown",
   "metadata": {},
   "source": [
    "# Creating a binary tree"
   ]
  },
  {
   "cell_type": "markdown",
   "metadata": {},
   "source": [
    "We wish to create a binary tree from a list. The list corresponds to reading the values in the tree in a breadth first manner. 'null' entries in the list correspond to \"missing nodes\" at the corresponding level in the tree.\n",
    "\n",
    "e.g. \n",
    "\n",
    "1) [1,2,3] corresponds to the following tree\n",
    "                                                       \n",
    "                                                       1\n",
    "                                                      / \\\n",
    "                                                     2   3\n",
    "\n",
    "\n",
    "2) [1,2,3, 'null', 4, 'null', 'null', 'null','null', 5,6,'null','null','null','null'] corresponds to the following tree\n",
    "                                                          \n",
    "                                                          1\n",
    "                                                         / \\\n",
    "                                                        2   3\n",
    "                                                         \\\n",
    "                                                          4\n",
    "                                                         / \\\n",
    "                                                        5   6"
   ]
  },
  {
   "cell_type": "code",
   "execution_count": 1,
   "metadata": {},
   "outputs": [],
   "source": [
    "# class to define the nodes of a binary tree \n",
    "class node():\n",
    "    def __init__(self, val=0):\n",
    "        self.val=val\n",
    "        self.left = None\n",
    "        self.right = None\n",
    "    "
   ]
  },
  {
   "cell_type": "code",
   "execution_count": 2,
   "metadata": {},
   "outputs": [],
   "source": [
    "# class to create a tree\n",
    "class BinaryTree():\n",
    "    def __init__(self):\n",
    "        self.root=node()\n",
    "        \n",
    "    def make_tree(self, lst=[0]):\n",
    "        self.root.val=lst.pop(0)\n",
    "        qu=[self.root]\n",
    "        while len(lst):\n",
    "            #print(qu)\n",
    "            current=qu.pop(0)\n",
    "            val_left=lst.pop(0)\n",
    "            val_right=lst.pop(0)\n",
    "            if not val_left=='null':\n",
    "                current.left=node(val_left)\n",
    "                qu.append(current.left)\n",
    "            else: qu.append(None)    \n",
    "            \n",
    "            if not val_right=='null':\n",
    "                current.right=node(val_right)\n",
    "                qu.append(current.right)\n",
    "            else: qu.append(None)    "
   ]
  },
  {
   "cell_type": "markdown",
   "metadata": {},
   "source": [
    "# BFS"
   ]
  },
  {
   "cell_type": "markdown",
   "metadata": {},
   "source": [
    "We will now demostrate two slighlty differing implementations of BFS."
   ]
  },
  {
   "cell_type": "code",
   "execution_count": 3,
   "metadata": {},
   "outputs": [],
   "source": [
    "def BFS_1(root):\n",
    "    qu=[root]\n",
    "    values=[]\n",
    "    while len(qu):\n",
    "        current=qu.pop(0)\n",
    "        values.append(current.val)\n",
    "        if current.left: qu.append(current.left)\n",
    "        if current.right: qu.append(current.right)\n",
    "                  \n",
    "    \n",
    "    return values"
   ]
  },
  {
   "cell_type": "markdown",
   "metadata": {},
   "source": [
    "BFS_1 above cannot keep track of the level of the nodes and hence will not be so easily applicable in scenarios (for e.g. [this](https://leetcode.com/problems/maximum-level-sum-of-a-binary-tree/) Leetcode problem)where we also need to keep track of the level of each node.\n",
    "\n",
    "The [solution](https://leetcode.com/submissions/detail/259532320/) to the above Leetcode problem suggests a very nive way to tweak the above algorithm to also keep track of each node's level. We will demostrate it in our next implemention i.e. BFS_2\n",
    "\n"
   ]
  },
  {
   "cell_type": "code",
   "execution_count": 4,
   "metadata": {},
   "outputs": [],
   "source": [
    "def BFS_2(root):\n",
    "    qu1=[root]\n",
    "    values=[]\n",
    "    level=1\n",
    "    while qu1:\n",
    "        qu2=[]\n",
    "        for node in qu1:\n",
    "            values.append((level,node.val))\n",
    "            if node.left: qu2.append(node.left)\n",
    "            if node.right: qu2.append(node.right)\n",
    "            \n",
    "        \n",
    "        qu1=qu2\n",
    "        level+=1\n",
    "    \n",
    "    return values"
   ]
  },
  {
   "cell_type": "code",
   "execution_count": 5,
   "metadata": {},
   "outputs": [],
   "source": [
    "tree1=BinaryTree()\n",
    "tree1.make_tree([1,2,3, 'null', 4, 'null', 'null', 'null','null', 5,6,'null','null','null','null']  )"
   ]
  },
  {
   "cell_type": "code",
   "execution_count": 6,
   "metadata": {},
   "outputs": [],
   "source": [
    "import time"
   ]
  },
  {
   "cell_type": "code",
   "execution_count": 7,
   "metadata": {},
   "outputs": [
    {
     "name": "stdout",
     "output_type": "stream",
     "text": [
      "(level,value): [(1, 1), (2, 2), (2, 3), (3, 4), (4, 5), (4, 6)]\n",
      "Wall time: 997 µs\n"
     ]
    }
   ],
   "source": [
    "%%time\n",
    "print('(level,value):',BFS_2(tree1.root))"
   ]
  },
  {
   "cell_type": "code",
   "execution_count": 8,
   "metadata": {},
   "outputs": [
    {
     "name": "stdout",
     "output_type": "stream",
     "text": [
      "[1, 2, 3, 4, 5, 6]\n",
      "Wall time: 0 ns\n"
     ]
    }
   ],
   "source": [
    "%%time\n",
    "print(BFS_1(tree1.root))"
   ]
  },
  {
   "cell_type": "markdown",
   "metadata": {},
   "source": [
    "Note that in cases where the information about the level is not required, BFS_1 appears to be significantly faster.  "
   ]
  },
  {
   "cell_type": "markdown",
   "metadata": {},
   "source": [
    "# DFS"
   ]
  },
  {
   "cell_type": "markdown",
   "metadata": {},
   "source": [
    "DFS traversal can be done in three ways, for e.g. see [here](https://www.geeksforgeeks.org/tree-traversals-inorder-preorder-and-postorder/):\n",
    "\n",
    "1) In-order: display the nodes in the left branch -> display current node ->  display nodes in the right branch -> Repeat\n",
    "\n",
    "2) pre-order: display current node -> display nodes in the left branch -> display nodes in the right branch -> repeat\n",
    "\n",
    "3) post-order: display nodes in the left branch ->  display nodes in the right branch -> display current node -> repeat \n",
    "\n",
    "\n",
    "For example if consider the tree :   \n",
    "                                     \n",
    "                                                          1\n",
    "                                                         / \\\n",
    "                                                        2   3\n",
    "                                                         \\\n",
    "                                                          4\n",
    "                                                         / \\\n",
    "                                                        5   6\n",
    "                                                        \n",
    " then the different DFS traversals will produce the following output:\n",
    " \n",
    "1) In-order: 2,5,4,6,1,3\n",
    "\n",
    "2) pre-order: 1,2,4,5,6,3\n",
    "\n",
    "3) post-order: 5,6,4,2,3,1"
   ]
  },
  {
   "cell_type": "code",
   "execution_count": 9,
   "metadata": {},
   "outputs": [],
   "source": [
    "def DFS_inorder(root):\n",
    "    return DFS_inorder_helper(root)\n",
    "\n",
    "def DFS_inorder_helper(current):\n",
    "    out=[]\n",
    "    if current.left:\n",
    "        out+=DFS_inorder_helper(current.left)\n",
    "    out.append(current.val) \n",
    "    if current.right:\n",
    "        out+=DFS_inorder_helper(current.right)\n",
    "    \n",
    "    return out"
   ]
  },
  {
   "cell_type": "code",
   "execution_count": 10,
   "metadata": {},
   "outputs": [],
   "source": [
    "tree1=BinaryTree()\n",
    "tree1.make_tree([1,2,3, 'null', 4, 'null', 'null', 'null','null', 5,6,'null','null','null','null']  )"
   ]
  },
  {
   "cell_type": "code",
   "execution_count": 11,
   "metadata": {},
   "outputs": [
    {
     "name": "stdout",
     "output_type": "stream",
     "text": [
      "[2, 5, 4, 6, 1, 3]\n"
     ]
    }
   ],
   "source": [
    "print(DFS_inorder(tree1.root))"
   ]
  },
  {
   "cell_type": "code",
   "execution_count": 12,
   "metadata": {},
   "outputs": [],
   "source": [
    "def DFS_preorder(root):\n",
    "    return DFS_preorder_helper(root)\n",
    "\n",
    "def DFS_preorder_helper(current):\n",
    "    out=[]\n",
    "    out.append(current.val)\n",
    "    if current.left: out+=DFS_preorder_helper(current.left)\n",
    "    if current.right: out+=DFS_preorder_helper(current.right)\n",
    "    \n",
    "    return out"
   ]
  },
  {
   "cell_type": "code",
   "execution_count": 13,
   "metadata": {},
   "outputs": [
    {
     "name": "stdout",
     "output_type": "stream",
     "text": [
      "[1, 2, 4, 5, 6, 3]\n"
     ]
    }
   ],
   "source": [
    "print(DFS_preorder(tree1.root))"
   ]
  },
  {
   "cell_type": "code",
   "execution_count": 14,
   "metadata": {},
   "outputs": [],
   "source": [
    "def DFS_postorder(root):\n",
    "    return DFS_postorder_helper(root)\n",
    "    \n",
    "def DFS_postorder_helper(current):\n",
    "    out=[]\n",
    "    if current.left: out+=DFS_postorder_helper(current.left)\n",
    "    if current.right: out+=DFS_postorder_helper(current.right)\n",
    "    out.append(current.val)\n",
    "    return out"
   ]
  },
  {
   "cell_type": "code",
   "execution_count": 15,
   "metadata": {},
   "outputs": [
    {
     "name": "stdout",
     "output_type": "stream",
     "text": [
      "[5, 6, 4, 2, 3, 1]\n"
     ]
    }
   ],
   "source": [
    "print(DFS_postorder(tree1.root))"
   ]
  },
  {
   "cell_type": "markdown",
   "metadata": {},
   "source": [
    "Note that in DFS traversal, it is easier to keep track of the level of the node: simply add 1 to the current level each time to go to the left or right node. Let us see how to do this for DFS_inorder. Exactly the same this will apply for the other two DFS traversals also. "
   ]
  },
  {
   "cell_type": "code",
   "execution_count": 16,
   "metadata": {},
   "outputs": [],
   "source": [
    "def DFS_inorder_2(root):\n",
    "    level=1\n",
    "    return DFS_inorder_helper_2(root, level)\n",
    "\n",
    "def DFS_inorder_helper_2(current, level):\n",
    "    out=[]\n",
    "    if current.left:\n",
    "        out+=DFS_inorder_helper_2(current.left, level+1)\n",
    "    tup=(level, current.val)    \n",
    "    out.append(tup) \n",
    "    if current.right:\n",
    "        out+=DFS_inorder_helper_2(current.right, level +1)\n",
    "    \n",
    "    return out"
   ]
  },
  {
   "cell_type": "code",
   "execution_count": 17,
   "metadata": {},
   "outputs": [
    {
     "name": "stdout",
     "output_type": "stream",
     "text": [
      "(level, value): [(2, 2), (4, 5), (3, 4), (4, 6), (1, 1), (2, 3)]\n"
     ]
    }
   ],
   "source": [
    "print('(level, value):',DFS_inorder_2(tree1.root))"
   ]
  },
  {
   "cell_type": "code",
   "execution_count": null,
   "metadata": {},
   "outputs": [],
   "source": []
  }
 ],
 "metadata": {
  "kernelspec": {
   "display_name": "Python 3",
   "language": "python",
   "name": "python3"
  },
  "language_info": {
   "codemirror_mode": {
    "name": "ipython",
    "version": 3
   },
   "file_extension": ".py",
   "mimetype": "text/x-python",
   "name": "python",
   "nbconvert_exporter": "python",
   "pygments_lexer": "ipython3",
   "version": "3.7.1"
  }
 },
 "nbformat": 4,
 "nbformat_minor": 2
}
