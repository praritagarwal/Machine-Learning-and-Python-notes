{
 "cells": [
  {
   "cell_type": "markdown",
   "metadata": {},
   "source": [
    "# Creating a binary tree"
   ]
  },
  {
   "cell_type": "markdown",
   "metadata": {},
   "source": [
    "We wish to create a binary tree from a list. The list corresponds to reading the values in the tree in a breadth first manner. 'null' entries in the list correspond to \"missing nodes\" at the corresponding level in the tree.\n",
    "\n",
    "e.g. \n",
    "\n",
    "1) [1,2,3] corresponds to the following tree\n",
    "                                                       \n",
    "                                                       1\n",
    "                                                      / \\\n",
    "                                                     2   3\n",
    "\n",
    "\n",
    "2) [1,2,3, 'null', 4, 'null', 'null', 'null','null', 5,6,'null','null','null','null'] corresponds to the following tree\n",
    "                                                          \n",
    "                                                          1\n",
    "                                                         / \\\n",
    "                                                        2   3\n",
    "                                                         \\\n",
    "                                                          4\n",
    "                                                         / \\\n",
    "                                                        5   6"
   ]
  },
  {
   "cell_type": "code",
   "execution_count": 1,
   "metadata": {},
   "outputs": [],
   "source": [
    "# class to define the nodes of a binary tree \n",
    "class node():\n",
    "    def __init__(self, val=0):\n",
    "        self.val=val\n",
    "        self.left = None\n",
    "        self.right = None\n",
    "    "
   ]
  },
  {
   "cell_type": "code",
   "execution_count": 2,
   "metadata": {},
   "outputs": [],
   "source": [
    "# class to create a tree\n",
    "class BinaryTree():\n",
    "    def __init__(self):\n",
    "        self.root=node()\n",
    "        \n",
    "    def make_tree(self, lst=[0]):\n",
    "        self.root.val=lst.pop(0)\n",
    "        qu=[self.root]\n",
    "        while len(lst):\n",
    "            #print(qu)\n",
    "            current=qu.pop(0)\n",
    "            val_left=lst.pop(0)\n",
    "            val_right=lst.pop(0)\n",
    "            if not val_left=='null':\n",
    "                current.left=node(val_left)\n",
    "                qu.append(current.left)\n",
    "            else: qu.append(None)    \n",
    "            \n",
    "            if not val_right=='null':\n",
    "                current.right=node(val_right)\n",
    "                qu.append(current.right)\n",
    "            else: qu.append(None)    "
   ]
  },
  {
   "cell_type": "markdown",
   "metadata": {},
   "source": [
    "# BFS"
   ]
  },
  {
   "cell_type": "markdown",
   "metadata": {},
   "source": [
    "We will now demostrate two slighlty differing implementations of BFS."
   ]
  },
  {
   "cell_type": "code",
   "execution_count": 3,
   "metadata": {},
   "outputs": [],
   "source": [
    "def BFS_1(root):\n",
    "    qu=[root]\n",
    "    values=[]\n",
    "    while len(qu):\n",
    "        current=qu.pop(0)\n",
    "        values.append(current.val)\n",
    "        if current.left: qu.append(current.left)\n",
    "        if current.right: qu.append(current.right)\n",
    "                  \n",
    "    \n",
    "    return values"
   ]
  },
  {
   "cell_type": "markdown",
   "metadata": {},
   "source": [
    "BFS_1 above cannot keep track of the level of the nodes and hence will not be so easily applicable in scenarios (for e.g. [this](https://leetcode.com/problems/maximum-level-sum-of-a-binary-tree/) Leetcode problem)where we also need to keep track of the level of each node.\n",
    "\n",
    "The [solution](https://leetcode.com/submissions/detail/259532320/) to the above Leetcode problem suggests a very nive way to tweak the above algorithm to also keep track of each node's level. We will demostrate it in our next implemention i.e. BFS_2\n",
    "\n"
   ]
  },
  {
   "cell_type": "code",
   "execution_count": 4,
   "metadata": {},
   "outputs": [],
   "source": [
    "def BFS_2(root):\n",
    "    qu1=[root]\n",
    "    values=[]\n",
    "    level=1\n",
    "    while qu1:\n",
    "        qu2=[]\n",
    "        for node in qu1:\n",
    "            values.append((level,node.val))\n",
    "            if node.left: qu2.append(node.left)\n",
    "            if node.right: qu2.append(node.right)\n",
    "            \n",
    "        \n",
    "        qu1=qu2\n",
    "        level+=1\n",
    "    \n",
    "    return values"
   ]
  },
  {
   "cell_type": "code",
   "execution_count": 5,
   "metadata": {},
   "outputs": [],
   "source": [
    "tree1=BinaryTree()\n",
    "tree1.make_tree([1,2,3, 'null', 4, 'null', 'null', 'null','null', 5,6,'null','null','null','null']  )"
   ]
  },
  {
   "cell_type": "code",
   "execution_count": 6,
   "metadata": {},
   "outputs": [],
   "source": [
    "import time"
   ]
  },
  {
   "cell_type": "code",
   "execution_count": 7,
   "metadata": {},
   "outputs": [
    {
     "name": "stdout",
     "output_type": "stream",
     "text": [
      "[(1, 1), (2, 2), (2, 3), (3, 4), (4, 5), (4, 6)]\n",
      "Wall time: 435 µs\n"
     ]
    }
   ],
   "source": [
    "%%time\n",
    "print(BFS_2(tree1.root))"
   ]
  },
  {
   "cell_type": "code",
   "execution_count": 8,
   "metadata": {},
   "outputs": [
    {
     "name": "stdout",
     "output_type": "stream",
     "text": [
      "[1, 2, 3, 4, 5, 6]\n",
      "Wall time: 0 ns\n"
     ]
    }
   ],
   "source": [
    "%%time\n",
    "print(BFS_1(tree1.root))"
   ]
  },
  {
   "cell_type": "code",
   "execution_count": null,
   "metadata": {},
   "outputs": [],
   "source": []
  }
 ],
 "metadata": {
  "kernelspec": {
   "display_name": "Python 3",
   "language": "python",
   "name": "python3"
  },
  "language_info": {
   "codemirror_mode": {
    "name": "ipython",
    "version": 3
   },
   "file_extension": ".py",
   "mimetype": "text/x-python",
   "name": "python",
   "nbconvert_exporter": "python",
   "pygments_lexer": "ipython3",
   "version": "3.7.1"
  }
 },
 "nbformat": 4,
 "nbformat_minor": 2
}
