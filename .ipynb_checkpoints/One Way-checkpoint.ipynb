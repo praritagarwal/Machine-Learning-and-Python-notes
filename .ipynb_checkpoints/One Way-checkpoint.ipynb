{
 "cells": [
  {
   "cell_type": "markdown",
   "metadata": {},
   "source": [
    "Problem 1.5 from Cracking the Coding Interview:\n",
    "\n",
    "One Away: There are three types of edits that can be performed on strings: insert a character, remove a character, or replace a character. Given two strings, write a function to check if they are one edit (or zero edits) away. \n",
    "\n",
    "EXAMPLE\n",
    "\n",
    "pale, ple -> true \n",
    "\n",
    "pales, pale -> true \n",
    "\n",
    "pale, bale -> true\n",
    "\n",
    "pale, bake -> false\n"
   ]
  },
  {
   "cell_type": "code",
   "execution_count": 1,
   "metadata": {},
   "outputs": [],
   "source": [
    "# function to check if two strings of equal length are at most one replacement away\n",
    "def OneReplacementQ(s1, s2):\n",
    "    l = len(s1)\n",
    "    if len(s2)!=l:\n",
    "        print('Error: The s1 and s2 are not of same length')\n",
    "        return \n",
    "    found_diff_char = False\n",
    "    for idx in range(l):\n",
    "        if s1[idx] == s2[idx]:\n",
    "            continue\n",
    "    \n",
    "        elif found_diff_char:  # Note that we will only reach here when the previous if statment \n",
    "                                                    # returns a false, \n",
    "                                                    # so this if statement can be simply replaced with elif found_diff_char:\n",
    "            return False\n",
    "        else:\n",
    "            found_diff_char = True\n",
    "    return True  "
   ]
  },
  {
   "cell_type": "code",
   "execution_count": 7,
   "metadata": {},
   "outputs": [],
   "source": [
    "# function to check of two strings are equivalent upto a single insertion in the smaller string\n",
    "# When calling this function we will make sure that s1 is the smaller string and s2 is the bigger string\n",
    "def OneInsertionQ(s1, s2):\n",
    "    l1 = len(s1)\n",
    "    l2 = len(s2)\n",
    "    if l1 > l2:\n",
    "        print('Error: s1 should be smaller then s2')\n",
    "    if (l2-l1)!=1:\n",
    "        print('Error: the strings cannot be related by just a single insertion in the smaller string')\n",
    "        return\n",
    "    idx1 = 0\n",
    "    inserted_char = False\n",
    "    for idx2 in range(l1): \n",
    "        if s1[idx1] == s2[idx2]:\n",
    "            idx1+=1\n",
    "            continue\n",
    "        elif inserted_char:\n",
    "            return False\n",
    "        else:\n",
    "            inserted_char = True  \n",
    "    return True"
   ]
  },
  {
   "cell_type": "code",
   "execution_count": 11,
   "metadata": {},
   "outputs": [
    {
     "name": "stdout",
     "output_type": "stream",
     "text": [
      "input the first string pales\n",
      "input the second string ples\n",
      "True\n"
     ]
    }
   ],
   "source": [
    "s1 = input('input the first string ')\n",
    "s2 = input('input the second string ')\n",
    "\n",
    "l1 = len(s1)\n",
    "l2 = len(s2)\n",
    "\n",
    "if abs(l1-l2) > 1:\n",
    "    print(False)\n",
    "elif l1 == l2:\n",
    "    print(OneReplacementQ(s1,s2))\n",
    "elif l2-l1 == 1:\n",
    "    print(OneInsertionQ(s1,s2))\n",
    "else:\n",
    "    print(OneInsertionQ(s2,s1))"
   ]
  },
  {
   "cell_type": "code",
   "execution_count": null,
   "metadata": {},
   "outputs": [],
   "source": []
  }
 ],
 "metadata": {
  "kernelspec": {
   "display_name": "Python 3",
   "language": "python",
   "name": "python3"
  },
  "language_info": {
   "codemirror_mode": {
    "name": "ipython",
    "version": 3
   },
   "file_extension": ".py",
   "mimetype": "text/x-python",
   "name": "python",
   "nbconvert_exporter": "python",
   "pygments_lexer": "ipython3",
   "version": "3.7.4"
  }
 },
 "nbformat": 4,
 "nbformat_minor": 2
}
