{
 "cells": [
  {
   "cell_type": "markdown",
   "metadata": {},
   "source": [
    "# Sorting"
   ]
  },
  {
   "cell_type": "code",
   "execution_count": 50,
   "metadata": {},
   "outputs": [],
   "source": [
    "import time\n",
    "import numpy as np\n",
    "import sys \n",
    "import copy # for making deep copies of arrays\n",
    "import matplotlib.pyplot as plt"
   ]
  },
  {
   "cell_type": "code",
   "execution_count": 45,
   "metadata": {},
   "outputs": [],
   "source": [
    "def timing_efficiency(function):\n",
    "    '''Function to compute the timing efficiency of a sorting function.\n",
    "       We will compute this empirically by generating random arrays of length ranging from 1 to 10 \n",
    "       and computing the average time taken to sort the arrays of that length. To compute the average time to \n",
    "       sort an array of a given length, we will generate 10 random samples of arrays of that length\n",
    "       '''\n",
    "    timing=[] # list to store the average timing of a quicksort for arrays of a given length\n",
    "    \n",
    "    n_samples=5000 # no. of random samples of a given length to be generated \n",
    "    \n",
    "    for itr in range(100):\n",
    "        \n",
    "        time_taken=0\n",
    "        for sample in range(n_samples):\n",
    "            test=np.random.random_sample((itr,))\n",
    "            test=test.tolist()\n",
    "            start= time.time()\n",
    "            function(test)\n",
    "            end=time.time()\n",
    "            elapsed=(end-start)\n",
    "            time_taken=time_taken+elapsed\n",
    "        \n",
    "        \n",
    "        avg_time=time_taken/n_samples\n",
    "        \n",
    "        timing.append(avg_time)\n",
    "        \n",
    "        \n",
    "    return timing    \n",
    "    \n",
    "    "
   ]
  },
  {
   "cell_type": "code",
   "execution_count": 38,
   "metadata": {},
   "outputs": [],
   "source": [
    "def check_sorting_algo(func):\n",
    "    '''function to check if a sorting algorithm is indeed working. \n",
    "       We check for arrays of increasing length from 1 to 100.\n",
    "       For each length, we will generate 500 random arrays and sort them using the supplied function'''\n",
    "    \n",
    "    n_trials = 500 # number of different arrays of a given length to try\n",
    "    \n",
    "    for ln in range(1,100+1):\n",
    "        for _ in range(n_trials):\n",
    "            unsorted_array = np.random.random_sample((ln,)) \n",
    "            helper = copy.deepcopy(unsorted_array).tolist() # the sorting function defined by us take list of numbers \n",
    "            sorted_array = np.array( func(helper) )\n",
    "            expected_result = np.sort(unsorted_array)\n",
    "            if not np.array_equal(sorted_array, expected_result):\n",
    "                print('Failed to correctly sort: {}'.format(unsorted_array))\n",
    "                print('Given function returned: {}'.format(sorted_array))\n",
    "                print('Expected result was: {}'.format(expected_result))\n",
    "                sys.exit() # stop execution at the first instance of sorting error\n",
    "                           # see the following stackoverflow post about different ways to exit an execution\n",
    "                           # https://stackoverflow.com/questions/19747371/python-exit-commands-why-so-many-and-when-should-each-be-used\n",
    "                        \n",
    "    print('Hurrah! The func seems to work as expected')        "
   ]
  },
  {
   "cell_type": "markdown",
   "metadata": {},
   "source": [
    "## Quicksort"
   ]
  },
  {
   "cell_type": "markdown",
   "metadata": {},
   "source": [
    "- Efficiency: N Log(N)\n",
    "\n",
    "- Choose a pivot and put all the elements smaller than the pivot to its left and all the elements greater than it to its right. Now sort the sub-arrays on its left and right. \n",
    "\n",
    "- Its a convention to choose the pivot to be the last element of the array.\n",
    "\n",
    "- See [this](https://www.youtube.com/watch?time_continue=1&v=kUon6854joI) video for a tutorial on quicksort\n"
   ]
  },
  {
   "cell_type": "code",
   "execution_count": 11,
   "metadata": {},
   "outputs": [],
   "source": [
    "def quicksort(array):\n",
    "    \n",
    "    # In this implementation, we assume that the array is of type list. \n",
    "    # If the array is a 1d numpy array, then it must be recast as a list before passing it \n",
    "\n",
    "\n",
    "    \n",
    "    if len(array)<=1:\n",
    "        return array\n",
    "\n",
    "    pivot = array[-1]\n",
    "    pos_pivot=len(array)-1 # we will use this keep track of the pivot\n",
    "    ind=0 # this will hold the position of the array element to be compared with the pivot\n",
    "    \n",
    "    while ind < pos_pivot: # The pivot has reached its sorted position in the array if ind ==  pos_pivot\n",
    "        if array[ind]>=pivot:\n",
    "            array[pos_pivot]=array[ind]\n",
    "            array[ind]=array[pos_pivot-1]\n",
    "            array[pos_pivot-1]=pivot\n",
    "            pos_pivot-=1\n",
    "        else:\n",
    "            ind+=1\n",
    "            \n",
    "    array_left=quicksort(array[:pos_pivot])\n",
    "    array_right=quicksort(array[pos_pivot+1:])\n",
    "    array=array_left+[pivot]+array_right\n",
    "    \n",
    "    return array\n",
    "    "
   ]
  },
  {
   "cell_type": "code",
   "execution_count": 4,
   "metadata": {
    "scrolled": true
   },
   "outputs": [
    {
     "data": {
      "text/plain": [
       "[1, 3, 4, 6, 9, 14, 20, 21, 21, 25]"
      ]
     },
     "execution_count": 4,
     "metadata": {},
     "output_type": "execute_result"
    }
   ],
   "source": [
    "test=[21, 4, 1, 3, 9, 20, 25, 6, 21, 14]\n",
    "quicksort(test)"
   ]
  },
  {
   "cell_type": "code",
   "execution_count": 37,
   "metadata": {},
   "outputs": [
    {
     "name": "stdout",
     "output_type": "stream",
     "text": [
      "Hurrah! The func seems to work as expected\n"
     ]
    }
   ],
   "source": [
    "check_sorting_algo(quicksort)"
   ]
  },
  {
   "cell_type": "code",
   "execution_count": 5,
   "metadata": {
    "scrolled": true
   },
   "outputs": [
    {
     "name": "stdout",
     "output_type": "stream",
     "text": [
      "Wall time: 1min 33s\n"
     ]
    }
   ],
   "source": [
    "%%time\n",
    "# takes about 1.5min to execute\n",
    "tm=timing_efficiency(quicksort)"
   ]
  },
  {
   "cell_type": "code",
   "execution_count": 6,
   "metadata": {},
   "outputs": [],
   "source": [
    "expected_timing=[n*np.log2(n) for n in range(1,100)] # expected timing for quicksort is N Log(N)"
   ]
  },
  {
   "cell_type": "code",
   "execution_count": 7,
   "metadata": {},
   "outputs": [],
   "source": [
    "# inserting 0 for the arrays of length 0\n",
    "expected_timing.insert(0, 0)"
   ]
  },
  {
   "cell_type": "code",
   "execution_count": 8,
   "metadata": {},
   "outputs": [
    {
     "name": "stdout",
     "output_type": "stream",
     "text": [
      "6.558284432551209e-07\n"
     ]
    }
   ],
   "source": [
    "avg_slope=np.mean([tm[itr]/expected_timing[itr] for itr in range(5,80)])\n",
    "print(avg_slope)"
   ]
  },
  {
   "cell_type": "code",
   "execution_count": 10,
   "metadata": {
    "scrolled": true
   },
   "outputs": [
    {
     "data": {
      "image/png": "[encoded data removed]",
      "text/plain": [
       "<Figure size 432x288 with 1 Axes>"
      ]
     },
     "metadata": {
      "needs_background": "light"
     },
     "output_type": "display_data"
    }
   ],
   "source": [
    "plt.figure()\n",
    "plt.plot(expected_timing, tm)\n",
    "plt.plot(expected_timing, np.multiply(avg_slope, expected_timing))\n",
    "plt.xlabel('expected-timing=N Log(N)')\n",
    "plt.ylabel('average time taken for testing')\n",
    "plt.show()"
   ]
  },
  {
   "cell_type": "markdown",
   "metadata": {},
   "source": [
    "We thus see that the average time for quicksort is proportional to N log(N)"
   ]
  },
  {
   "cell_type": "markdown",
   "metadata": {},
   "source": [
    "## Bubble Sort"
   ]
  },
  {
   "cell_type": "code",
   "execution_count": 11,
   "metadata": {},
   "outputs": [],
   "source": [
    "def bubblesort(array):\n",
    "    lg=len(array)\n",
    "    srt=True # flag to indicate whether the array has become sorted or not\n",
    "    \n",
    "    while True: \n",
    "        for itr in range(lg-1):\n",
    "            if array[itr]>array[itr+1]:\n",
    "                val=array[itr]\n",
    "                array[itr]=array[itr+1]\n",
    "                array[itr+1]=val\n",
    "                srt=False\n",
    "            \n",
    "        if srt==True: \n",
    "            # srt being true indicates that there were no rearrangements done in the previous for loop\n",
    "            # if there were no rearrangments done in the previous for loop, then the array is already sorted\n",
    "            # and hence we can stop any further execution and return the array \n",
    "            return array\n",
    "        \n",
    "        srt=True"
   ]
  },
  {
   "cell_type": "code",
   "execution_count": 12,
   "metadata": {},
   "outputs": [
    {
     "data": {
      "text/plain": [
       "[1, 3, 4, 6, 9, 14, 20, 21, 21, 25]"
      ]
     },
     "execution_count": 12,
     "metadata": {},
     "output_type": "execute_result"
    }
   ],
   "source": [
    "test=[21, 4, 1, 3, 9, 20, 25, 6, 21, 14]\n",
    "bubblesort(test)"
   ]
  },
  {
   "cell_type": "code",
   "execution_count": 13,
   "metadata": {},
   "outputs": [
    {
     "name": "stdout",
     "output_type": "stream",
     "text": [
      "Wall time: 7min 56s\n"
     ]
    }
   ],
   "source": [
    "%%time\n",
    "# takes about 7.5min to execute\n",
    "tm=timing_efficiency(bubblesort)"
   ]
  },
  {
   "cell_type": "code",
   "execution_count": 14,
   "metadata": {},
   "outputs": [],
   "source": [
    "expected_timing=[n**2 for n in range(100)] # expected timing for bubble is N**2"
   ]
  },
  {
   "cell_type": "code",
   "execution_count": 15,
   "metadata": {},
   "outputs": [
    {
     "name": "stdout",
     "output_type": "stream",
     "text": [
      "2.867642991895495e-07\n"
     ]
    }
   ],
   "source": [
    "avg_slope=np.mean([tm[itr]/expected_timing[itr] for itr in range(5,80)])\n",
    "print(avg_slope)"
   ]
  },
  {
   "cell_type": "code",
   "execution_count": 17,
   "metadata": {
    "scrolled": true
   },
   "outputs": [
    {
     "data": {
      "image/png": "[encoded data removed]",
      "text/plain": [
       "<Figure size 432x288 with 1 Axes>"
      ]
     },
     "metadata": {
      "needs_background": "light"
     },
     "output_type": "display_data"
    }
   ],
   "source": [
    "plt.figure()\n",
    "plt.plot(expected_timing, tm)\n",
    "plt.plot(expected_timing, np.multiply(avg_slope, expected_timing))\n",
    "plt.xlabel('expected-timing=N**2')\n",
    "plt.ylabel('average time taken for testing')\n",
    "plt.show()"
   ]
  },
  {
   "cell_type": "markdown",
   "metadata": {},
   "source": [
    "- As expected, bubble sort has an efficiency of N**2"
   ]
  },
  {
   "cell_type": "markdown",
   "metadata": {},
   "source": [
    "## Mergesort"
   ]
  },
  {
   "cell_type": "code",
   "execution_count": 54,
   "metadata": {},
   "outputs": [],
   "source": [
    "def mergesort_wrapper(arr):\n",
    "    Arr = np.array(arr)\n",
    "    mergesort(Arr)\n",
    "    return Arr\n",
    "\n",
    "def mergesort(arr):\n",
    "    len = arr.shape[-1]\n",
    "    if len <= 1: return \n",
    "    middle = len//2    \n",
    "    mergesort(arr[:middle]) # sort the left-half\n",
    "    mergesort(arr[middle:]) # sort the right-half\n",
    "    merge(arr) # merge the left-half and the right-half\n",
    "    return\n",
    "\n",
    "\n",
    "def merge(arr):\n",
    "    len = arr.shape[-1]\n",
    "    middle = len//2\n",
    "    left_pos = 0 # choose an element from left half of helper \n",
    "    right_pos = len//2  # choose an element from right half of helper \n",
    "    current_pos = 0 # current pos in the arr\n",
    "    helper = copy.deepcopy(arr) # deep copy of arr. check if this is correct!\n",
    "                                # copy.copy() does a shallow copy. Use copy.deepcopy() for deep copy\n",
    "                                 \n",
    "    \n",
    "    while (left_pos < middle) and (right_pos < len):\n",
    "        if helper[left_pos] < helper[right_pos]: \n",
    "            arr[current_pos] = helper[left_pos]\n",
    "            left_pos+=1\n",
    "        else:\n",
    "            arr[current_pos] = helper[right_pos]\n",
    "            right_pos+=1\n",
    "        current_pos+=1\n",
    "    \n",
    "    # copy the remain elements of the left-array\n",
    "    for iter in range(left_pos, middle):\n",
    "        arr[current_pos] = helper[iter]\n",
    "        current_pos+=1    \n",
    "    return"
   ]
  },
  {
   "cell_type": "code",
   "execution_count": 55,
   "metadata": {},
   "outputs": [
    {
     "name": "stdout",
     "output_type": "stream",
     "text": [
      "Hurrah! The func seems to work as expected\n"
     ]
    }
   ],
   "source": [
    "check_sorting_algo(mergesort_wrapper)"
   ]
  },
  {
   "cell_type": "code",
   "execution_count": 56,
   "metadata": {},
   "outputs": [
    {
     "name": "stdout",
     "output_type": "stream",
     "text": [
      "Wall time: 2min 53s\n"
     ]
    }
   ],
   "source": [
    "%%time\n",
    "tm = timing_efficiency(mergesort_wrapper)"
   ]
  },
  {
   "cell_type": "code",
   "execution_count": 57,
   "metadata": {},
   "outputs": [],
   "source": [
    "expected_timing = [n*np.log2(n) for n in range(1,100)] # expected timing for mergesort is N Log(N)"
   ]
  },
  {
   "cell_type": "code",
   "execution_count": 58,
   "metadata": {},
   "outputs": [
    {
     "name": "stdout",
     "output_type": "stream",
     "text": [
      "1.2117306287108164e-06\n"
     ]
    }
   ],
   "source": [
    "avg_slope=np.mean([tm[itr]/expected_timing[itr] for itr in range(5,80)])\n",
    "print(avg_slope)"
   ]
  },
  {
   "cell_type": "code",
   "execution_count": 59,
   "metadata": {},
   "outputs": [],
   "source": [
    "# inserting 0 for the arrays of length 0\n",
    "expected_timing.insert(0, 0)"
   ]
  },
  {
   "cell_type": "code",
   "execution_count": 60,
   "metadata": {},
   "outputs": [
    {
     "data": {
      "image/png": "[encoded data removed]",
      "text/plain": [
       "<Figure size 432x288 with 1 Axes>"
      ]
     },
     "metadata": {
      "needs_background": "light"
     },
     "output_type": "display_data"
    }
   ],
   "source": [
    "plt.figure()\n",
    "plt.plot(expected_timing, tm)\n",
    "plt.plot(expected_timing, np.multiply(avg_slope, expected_timing))\n",
    "plt.xlabel('expected-timing=N Log(N)')\n",
    "plt.ylabel('average time taken for testing')\n",
    "plt.show()"
   ]
  }
 ],
 "metadata": {
  "kernelspec": {
   "display_name": "Python 3",
   "language": "python",
   "name": "python3"
  },
  "language_info": {
   "codemirror_mode": {
    "name": "ipython",
    "version": 3
   },
   "file_extension": ".py",
   "mimetype": "text/x-python",
   "name": "python",
   "nbconvert_exporter": "python",
   "pygments_lexer": "ipython3",
   "version": "3.7.1"
  }
 },
 "nbformat": 4,
 "nbformat_minor": 2
}
