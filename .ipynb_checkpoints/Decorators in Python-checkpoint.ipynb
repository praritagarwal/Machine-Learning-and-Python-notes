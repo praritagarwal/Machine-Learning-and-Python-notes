{
 "cells": [
  {
   "cell_type": "markdown",
   "metadata": {},
   "source": [
    "Based on [this](https://realpython.com/primer-on-python-decorators/) post."
   ]
  },
  {
   "cell_type": "markdown",
   "metadata": {},
   "source": [
    "## Decorator for functions without any arguments"
   ]
  },
  {
   "cell_type": "code",
   "execution_count": 1,
   "metadata": {},
   "outputs": [],
   "source": [
    "def decorator1(func):\n",
    "    def func_wrapper():\n",
    "        print('This is my first encounter with decorators!')\n",
    "        func()\n",
    "        print('This was fun!')\n",
    "    \n",
    "    return func_wrapper"
   ]
  },
  {
   "cell_type": "code",
   "execution_count": 2,
   "metadata": {},
   "outputs": [],
   "source": [
    "def say_hello():\n",
    "    print('Hello! Hope to enjoy this!')\n",
    "    \n",
    "say_hello = decorator1(say_hello) # this overwrites the previous definition of say_hello"
   ]
  },
  {
   "cell_type": "code",
   "execution_count": 3,
   "metadata": {},
   "outputs": [
    {
     "name": "stdout",
     "output_type": "stream",
     "text": [
      "This is my first encounter with decorators!\n",
      "Hello! Hope to enjoy this!\n",
      "This was fun!\n"
     ]
    }
   ],
   "source": [
    "say_hello()"
   ]
  },
  {
   "cell_type": "code",
   "execution_count": 4,
   "metadata": {},
   "outputs": [],
   "source": [
    "@decorator1\n",
    "def try_another():\n",
    "    print('Decorators are interesting')"
   ]
  },
  {
   "cell_type": "code",
   "execution_count": 5,
   "metadata": {},
   "outputs": [
    {
     "name": "stdout",
     "output_type": "stream",
     "text": [
      "This is my first encounter with decorators!\n",
      "Decorators are interesting\n",
      "This was fun!\n"
     ]
    }
   ],
   "source": [
    "try_another()"
   ]
  },
  {
   "cell_type": "markdown",
   "metadata": {},
   "source": [
    "## Decorators for function with arbit. no. of arguments"
   ]
  },
  {
   "cell_type": "code",
   "execution_count": 6,
   "metadata": {},
   "outputs": [],
   "source": [
    "def decorator2(func):\n",
    "    '''We want our decorator to work with functions that accept any number of arguments i.e 0 or more '''\n",
    "    def wrapper(*args, **kwargs):\n",
    "        print('Decorating functions that can accept arguments')\n",
    "        func(*args, **kwargs)\n",
    "        print('This is awesome!')\n",
    "     \n",
    "    return wrapper"
   ]
  },
  {
   "cell_type": "code",
   "execution_count": 7,
   "metadata": {},
   "outputs": [],
   "source": [
    "@decorator2\n",
    "def welcome(*names): # this function can accept any number of arguments\n",
    "    print('names is tuple of the arguments passed to it')\n",
    "    print('for e.g. for the present case it is:', names)\n",
    "    print('welcome dear friends: {}'.format(', '.join(names)))"
   ]
  },
  {
   "cell_type": "code",
   "execution_count": 8,
   "metadata": {},
   "outputs": [
    {
     "name": "stdout",
     "output_type": "stream",
     "text": [
      "Decorating functions that can accept arguments\n",
      "names is tuple of the arguments passed to it\n",
      "for e.g. for the present case it is: ('Gayle',)\n",
      "welcome dear friends: Gayle\n",
      "This is awesome!\n"
     ]
    }
   ],
   "source": [
    "welcome('Gayle')"
   ]
  },
  {
   "cell_type": "code",
   "execution_count": 9,
   "metadata": {},
   "outputs": [
    {
     "name": "stdout",
     "output_type": "stream",
     "text": [
      "Decorating functions that can accept arguments\n",
      "names is tuple of the arguments passed to it\n",
      "for e.g. for the present case it is: ('Gayle', 'Ant')\n",
      "welcome dear friends: Gayle, Ant\n",
      "This is awesome!\n"
     ]
    }
   ],
   "source": [
    "welcome('Gayle', 'Ant')"
   ]
  },
  {
   "cell_type": "code",
   "execution_count": 10,
   "metadata": {},
   "outputs": [],
   "source": [
    "@decorator2\n",
    "def GoodBye(name): # This function can only accept a single argument\n",
    "    print('Good bye dear: {}'.format(name))"
   ]
  },
  {
   "cell_type": "code",
   "execution_count": 11,
   "metadata": {},
   "outputs": [
    {
     "name": "stdout",
     "output_type": "stream",
     "text": [
      "Decorating functions that can accept arguments\n",
      "Good bye dear: Prarit\n",
      "This is awesome!\n"
     ]
    }
   ],
   "source": [
    "GoodBye('Prarit')"
   ]
  },
  {
   "cell_type": "code",
   "execution_count": 12,
   "metadata": {},
   "outputs": [
    {
     "name": "stdout",
     "output_type": "stream",
     "text": [
      "Decorating functions that can accept arguments\n",
      "Good bye dear: Blackadder\n",
      "This is awesome!\n"
     ]
    }
   ],
   "source": [
    "# trying to pass a kwargs\n",
    "GoodBye(name = 'Blackadder')"
   ]
  },
  {
   "cell_type": "code",
   "execution_count": 14,
   "metadata": {},
   "outputs": [
    {
     "name": "stdout",
     "output_type": "stream",
     "text": [
      "Decorating functions that can accept arguments\n"
     ]
    },
    {
     "ename": "TypeError",
     "evalue": "GoodBye() got an unexpected keyword argument 'foo'",
     "output_type": "error",
     "traceback": [
      "\u001b[1;31m---------------------------------------------------------------------------\u001b[0m",
      "\u001b[1;31mTypeError\u001b[0m                                 Traceback (most recent call last)",
      "\u001b[1;32m<ipython-input-14-bd23fbe06cc4>\u001b[0m in \u001b[0;36m<module>\u001b[1;34m\u001b[0m\n\u001b[0;32m      1\u001b[0m \u001b[1;31m# Trying to pass an unexpected keyword argument should throw an error\u001b[0m\u001b[1;33m\u001b[0m\u001b[1;33m\u001b[0m\u001b[1;33m\u001b[0m\u001b[0m\n\u001b[1;32m----> 2\u001b[1;33m \u001b[0mGoodBye\u001b[0m\u001b[1;33m(\u001b[0m\u001b[0mfoo\u001b[0m \u001b[1;33m=\u001b[0m \u001b[1;34m'Blackadder'\u001b[0m\u001b[1;33m)\u001b[0m\u001b[1;33m\u001b[0m\u001b[1;33m\u001b[0m\u001b[0m\n\u001b[0m",
      "\u001b[1;32m<ipython-input-6-ea5432ad1933>\u001b[0m in \u001b[0;36mwrapper\u001b[1;34m(*args, **kwargs)\u001b[0m\n\u001b[0;32m      3\u001b[0m     \u001b[1;32mdef\u001b[0m \u001b[0mwrapper\u001b[0m\u001b[1;33m(\u001b[0m\u001b[1;33m*\u001b[0m\u001b[0margs\u001b[0m\u001b[1;33m,\u001b[0m \u001b[1;33m**\u001b[0m\u001b[0mkwargs\u001b[0m\u001b[1;33m)\u001b[0m\u001b[1;33m:\u001b[0m\u001b[1;33m\u001b[0m\u001b[1;33m\u001b[0m\u001b[0m\n\u001b[0;32m      4\u001b[0m         \u001b[0mprint\u001b[0m\u001b[1;33m(\u001b[0m\u001b[1;34m'Decorating functions that can accept arguments'\u001b[0m\u001b[1;33m)\u001b[0m\u001b[1;33m\u001b[0m\u001b[1;33m\u001b[0m\u001b[0m\n\u001b[1;32m----> 5\u001b[1;33m         \u001b[0mfunc\u001b[0m\u001b[1;33m(\u001b[0m\u001b[1;33m*\u001b[0m\u001b[0margs\u001b[0m\u001b[1;33m,\u001b[0m \u001b[1;33m**\u001b[0m\u001b[0mkwargs\u001b[0m\u001b[1;33m)\u001b[0m\u001b[1;33m\u001b[0m\u001b[1;33m\u001b[0m\u001b[0m\n\u001b[0m\u001b[0;32m      6\u001b[0m         \u001b[0mprint\u001b[0m\u001b[1;33m(\u001b[0m\u001b[1;34m'This is awesome!'\u001b[0m\u001b[1;33m)\u001b[0m\u001b[1;33m\u001b[0m\u001b[1;33m\u001b[0m\u001b[0m\n\u001b[0;32m      7\u001b[0m \u001b[1;33m\u001b[0m\u001b[0m\n",
      "\u001b[1;31mTypeError\u001b[0m: GoodBye() got an unexpected keyword argument 'foo'"
     ]
    }
   ],
   "source": [
    "# Trying to pass an unexpected keyword argument should throw an error\n",
    "GoodBye(foo = 'Blackadder')"
   ]
  },
  {
   "cell_type": "markdown",
   "metadata": {},
   "source": [
    "## Decorators that allow functions to return values"
   ]
  },
  {
   "cell_type": "code",
   "execution_count": 46,
   "metadata": {},
   "outputs": [],
   "source": [
    "# wrapper function of a decorator should return the value of the function\n",
    "# all the values will be returned as part of a tuple\n",
    "# I couldn't get the wrapper to unpack the tuple of return values before returning them\n",
    "def decorator3(func):\n",
    "    def wrapper(*args, **kwargs):\n",
    "        print('This decorator also returns allows the function to return values ')\n",
    "        func_return = func(*args, **kwargs)\n",
    "        print('Amazing! I love it!')\n",
    "        return func_return \n",
    "    \n",
    "    return wrapper"
   ]
  },
  {
   "cell_type": "code",
   "execution_count": 47,
   "metadata": {},
   "outputs": [],
   "source": [
    "@decorator3\n",
    "def two_numbers(num1, num2):\n",
    "    sm = num1+num2\n",
    "    prd = num1*num2\n",
    "    return sm, prd"
   ]
  },
  {
   "cell_type": "code",
   "execution_count": 51,
   "metadata": {},
   "outputs": [
    {
     "name": "stdout",
     "output_type": "stream",
     "text": [
      "This decorator also returns allows the function to return values \n",
      "Amazing! I love it!\n",
      "sum of the two numbers: 5\n",
      "product of the two numbers: 6\n"
     ]
    }
   ],
   "source": [
    "sm, prd = two_numbers(2,3)\n",
    "print('sum of the two numbers: {}'.format(sm))\n",
    "print('product of the two numbers: {}'.format(prd))"
   ]
  },
  {
   "cell_type": "code",
   "execution_count": null,
   "metadata": {},
   "outputs": [],
   "source": []
  }
 ],
 "metadata": {
  "kernelspec": {
   "display_name": "Python 3",
   "language": "python",
   "name": "python3"
  },
  "language_info": {
   "codemirror_mode": {
    "name": "ipython",
    "version": 3
   },
   "file_extension": ".py",
   "mimetype": "text/x-python",
   "name": "python",
   "nbconvert_exporter": "python",
   "pygments_lexer": "ipython3",
   "version": "3.7.1"
  }
 },
 "nbformat": 4,
 "nbformat_minor": 2
}
