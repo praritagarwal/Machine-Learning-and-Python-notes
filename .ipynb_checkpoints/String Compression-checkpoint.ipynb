{
 "cells": [
  {
   "cell_type": "markdown",
   "metadata": {},
   "source": [
    "Exercise 1.6 from Cracking the Coding Interview:\n",
    "\n",
    "Implement a method to perform basic string compression using the counts of repeated characters. For example, the string aabcccccaaa would become a2blc5a3. If the \"compressed\" string would not become smaller than the original string, your method should return the original string. You can assume the string has only uppercase and lowercase letters (a - z)."
   ]
  },
  {
   "cell_type": "markdown",
   "metadata": {},
   "source": [
    "We will solve this in two ways encapsulated in our functions compress1 and compress2"
   ]
  },
  {
   "cell_type": "code",
   "execution_count": 1,
   "metadata": {},
   "outputs": [],
   "source": [
    "# Note that the underlying assumption in the code for this function is that \n",
    "# if there are consecutive repeated characters in the string, then \n",
    "# the compressed string is going to be smaller than the original string. \n",
    "# This assumption fails for e.g. when the original string is 'aab', \n",
    "# the compressed string will then be 'a2b1' \n",
    "# which is actually longer than the original string and \n",
    "# hence not a compression of the original string. \n",
    "def compress1(s):\n",
    "    compressed_string = ''\n",
    "    current_char = s[0]\n",
    "    count = 1\n",
    "    compressed = False\n",
    "    for idx in range(1, len(s)):\n",
    "        if s[idx] == current_char:\n",
    "            count+=1\n",
    "            compressed = True\n",
    "        else:\n",
    "            compressed_string+= current_char + str(count)\n",
    "            current_char = s[idx]\n",
    "            count = 1\n",
    "     \n",
    "    compressed_string+= current_char + str(count)\n",
    "    if compressed:\n",
    "        return compressed_string\n",
    "    return s\n"
   ]
  },
  {
   "cell_type": "markdown",
   "metadata": {},
   "source": [
    "Note that the underlying assumption in the above function is that if there are consecutive repeated characters in the string, then the compressed string is going to be smaller than the original string. \n",
    "This <font color = red> assumption fails </font> for e.g. when the original string is 'aab', the compressed string will then be 'a2b1' which is actually longer than the original string and hence not a compression of the original string. Therefore the correct way to check is to simply compare the lengths of the compressed string and the original string and return the smaller string. "
   ]
  },
  {
   "cell_type": "code",
   "execution_count": 3,
   "metadata": {},
   "outputs": [],
   "source": [
    "# this function only returns the compressed string if its length is smaller than the original string\n",
    "# hence ensuring that it always returns the smaller string\n",
    "def compress2(s):\n",
    "    compressed_string = ''\n",
    "    current_char = s[0]\n",
    "    count = 1\n",
    "    for idx in range(1, len(s)):\n",
    "        if s[idx] == current_char:\n",
    "            count+=1\n",
    "        else:\n",
    "            compressed_string+=current_char + str(count)\n",
    "            current_char = s[idx]\n",
    "            count = 1\n",
    "     \n",
    "    compressed_string+=current_char + str(count)\n",
    "    if len(compressed_string) <  len(s):\n",
    "        return compressed_string\n",
    "    return s"
   ]
  },
  {
   "cell_type": "markdown",
   "metadata": {},
   "source": [
    "Note that in both the methods above, we were building the compressed string during the iterations itself. This involves repeated copying the compressed string to itself (when we do: compressed_string += current_char + str(count) ). In stead of doing this, what can be done is to throw current_char + str(count) into a list. Once the code finishes, can then build the compressed string by using .join() method of the string class. The corresponding code is as follows:"
   ]
  },
  {
   "cell_type": "code",
   "execution_count": 2,
   "metadata": {},
   "outputs": [],
   "source": [
    "# this function only returns the compressed string if its length is smaller than the original string\n",
    "# hence ensuring that it always returns the smaller string\n",
    "def compress3(s):\n",
    "    compressed_objects = []\n",
    "    current_char = s[0]\n",
    "    count = 1\n",
    "    for idx in range(1, len(s)):\n",
    "        if s[idx] == current_char:\n",
    "            count+=1\n",
    "        else:\n",
    "            compressed_objects.append(current_char + str(count))\n",
    "            current_char = s[idx]\n",
    "            count = 1\n",
    "     \n",
    "    compressed_objects.append(current_char + str(count))\n",
    "    compressed_string = ''.join(compressed_objects)\n",
    "    if len(compressed_string) <  len(s):\n",
    "        return compressed_string\n",
    "    return s"
   ]
  },
  {
   "cell_type": "code",
   "execution_count": 4,
   "metadata": {},
   "outputs": [
    {
     "name": "stdout",
     "output_type": "stream",
     "text": [
      "input a string to compress: aaabbeeddrrrrttt\n",
      "compressed string from method 1: a3b2e2d2r4t3\n",
      "compressed string from method 2: a3b2e2d2r4t3\n",
      "compressed string from method 3: a3b2e2d2r4t3\n"
     ]
    }
   ],
   "source": [
    "s = input('input a string to compress: ')\n",
    "print('compressed string from method 1: {}'.format(compress1(s)))\n",
    "print('compressed string from method 2: {}'.format(compress2(s)))\n",
    "print('compressed string from method 3: {}'.format(compress3(s)))"
   ]
  },
  {
   "cell_type": "markdown",
   "metadata": {},
   "source": [
    "Let's time compress2 and compress3 and see which is faster."
   ]
  },
  {
   "cell_type": "code",
   "execution_count": 27,
   "metadata": {},
   "outputs": [],
   "source": [
    "import numpy as np\n",
    "import string\n",
    "import time\n",
    "import matplotlib.pyplot as plt"
   ]
  },
  {
   "cell_type": "code",
   "execution_count": 10,
   "metadata": {},
   "outputs": [],
   "source": [
    "# function to return a random string of given length\n",
    "# the set of letter is already available through string constants. See the following link\n",
    "# https://docs.python.org/2/library/string.html#string-constants\n",
    "letters = list(string.ascii_letters)\n",
    "def random_string(size):\n",
    "    random = ''.join(np.random.choice(letters, size))\n",
    "    return random"
   ]
  },
  {
   "cell_type": "code",
   "execution_count": 36,
   "metadata": {},
   "outputs": [],
   "source": [
    "largest_size = 10000\n",
    "repetitions_per_size = 100\n",
    "time_list2 = []\n",
    "time_list3 = []\n",
    "for size in range(1,largest_size+1):\n",
    "    # for a given size we will repeat repetition_per_size times to get \n",
    "    # an estimage of the average timing for that size\n",
    "    timing2 = []\n",
    "    timing3 = []\n",
    "    for _ in range(repetitions_per_size):\n",
    "        original = random_string(size)\n",
    "        start2 = time.time()\n",
    "        compressed_str2 = compress2(original)\n",
    "        end2 = time.time()\n",
    "        timing2.append(end2-start2)\n",
    "        start3 = time.time()\n",
    "        compressed_str3 = compress3(original)\n",
    "        end3 = time.time()\n",
    "        timing3.append(end3-start3)\n",
    "        if compressed_str2!=compressed_str3:\n",
    "            print('Error: The compressed string returned by the two methods are not same')\n",
    "            print('The original string was: {}'.format(original))\n",
    "            print('compress2 returned: {}'.format(compressed_str2))\n",
    "            print('compress3 returned: {}'.format(compressed_str3))\n",
    "    time_list2.append(np.mean(timing2))\n",
    "    time_list3.append(np.mean(timing3))\n",
    "    "
   ]
  },
  {
   "cell_type": "code",
   "execution_count": 37,
   "metadata": {},
   "outputs": [
    {
     "data": {
      "image/png": "[encoded data removed]",
      "text/plain": [
       "<Figure size 432x288 with 1 Axes>"
      ]
     },
     "metadata": {
      "needs_background": "light"
     },
     "output_type": "display_data"
    }
   ],
   "source": [
    "plt.plot(time_list2,'r--', label = 'compress2')\n",
    "plt.plot(time_list3, 'g^', label = 'compress3')\n",
    "plt.xlabel('size of the string')\n",
    "plt.ylabel('avg. time taken to compress')\n",
    "plt.legend()\n",
    "plt.show()"
   ]
  },
  {
   "cell_type": "markdown",
   "metadata": {},
   "source": [
    "**Clearly, for large strings, using ''.join() to create the compressed_string just once is much faster then repeatedly creating a new compressed_string from the old one by concatenating new pieces to it.**"
   ]
  },
  {
   "cell_type": "code",
   "execution_count": null,
   "metadata": {},
   "outputs": [],
   "source": []
  }
 ],
 "metadata": {
  "kernelspec": {
   "display_name": "Python 3",
   "language": "python",
   "name": "python3"
  },
  "language_info": {
   "codemirror_mode": {
    "name": "ipython",
    "version": 3
   },
   "file_extension": ".py",
   "mimetype": "text/x-python",
   "name": "python",
   "nbconvert_exporter": "python",
   "pygments_lexer": "ipython3",
   "version": "3.7.4"
  }
 },
 "nbformat": 4,
 "nbformat_minor": 2
}
