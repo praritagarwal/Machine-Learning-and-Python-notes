{
 "cells": [
  {
   "cell_type": "markdown",
   "metadata": {},
   "source": [
    "Exercize 1.9 from Cracking the Coding Interview:\n",
    "\n",
    "Write an algorithm such that if an element in an MxN matrix is 0, its entire row and column are set to 0.\n"
   ]
  },
  {
   "cell_type": "code",
   "execution_count": 1,
   "metadata": {},
   "outputs": [],
   "source": [
    "import numpy as np"
   ]
  },
  {
   "cell_type": "code",
   "execution_count": 12,
   "metadata": {},
   "outputs": [],
   "source": [
    "# transform matrix to zeros\n",
    "# This is O(MN) in time where M = no. of rows, N = no. of columns\n",
    "# O(MN) is also the BCR\n",
    "# this is O(M+N) in space\n",
    "def zero_matrix1(a):\n",
    "    a = np.array(a)\n",
    "    zero_rows = set([])\n",
    "    zero_columns = set([])\n",
    "    M, N = a.shape\n",
    "    for row in range(M):\n",
    "        for column in range(N):\n",
    "            if a[row, column] == 0:\n",
    "                zero_rows.add(row)\n",
    "                zero_columns.add(column)\n",
    "    \n",
    "    for row in zero_rows:\n",
    "        for column in range(N):\n",
    "            a[row, column] = 0\n",
    "\n",
    "\n",
    "    for column in zero_columns:\n",
    "        for row in range(M):\n",
    "            a[row, column] = 0\n",
    "            \n",
    "    return a        "
   ]
  },
  {
   "cell_type": "code",
   "execution_count": 20,
   "metadata": {},
   "outputs": [],
   "source": [
    "def zero_matrix2(a):\n",
    "    a = np.array(a)\n",
    "    M, N = a.shape\n",
    "    zeroth_row = False\n",
    "    zeroth_column = False\n",
    "    for row in range(M):\n",
    "        for column in range(N):\n",
    "            if a[row, column] == 0:\n",
    "                    a[row, 0] = 0 # make the first element of the row zero\n",
    "                    a[0, column] = 0 # make the first element of the column zero\n",
    "                    zeroth_row = (row == 0)\n",
    "                    zeroth_column= (column == 0)\n",
    "                    \n",
    "    for row in range(1,M):\n",
    "        if a[row, 0] == 0 :\n",
    "            for column in range(N):\n",
    "                a[row, column] = 0        \n",
    "    \n",
    "    if zeroth_row:\n",
    "        for column in range(N):\n",
    "            a[0,column] = 0\n",
    "    \n",
    "    for column in range(1,N):\n",
    "        if a[0, column] == 0:\n",
    "            for row in range(M):\n",
    "                a[row, column] = 0 \n",
    "    \n",
    "    if zeroth_column:\n",
    "        for row in range(M):\n",
    "            a[row, 0] = 0\n",
    "\n",
    "    return a\n"
   ]
  },
  {
   "cell_type": "code",
   "execution_count": 31,
   "metadata": {},
   "outputs": [],
   "source": [
    "M = 4\n",
    "N = 5\n",
    "a = np.random.randint(low = -5, high = 5, size = (M,N))\n",
    "b = zero_matrix1(a)\n",
    "c = zero_matrix2(a)"
   ]
  },
  {
   "cell_type": "code",
   "execution_count": 32,
   "metadata": {},
   "outputs": [
    {
     "name": "stdout",
     "output_type": "stream",
     "text": [
      " a \n",
      "[[-4  3 -2 -5 -1]\n",
      " [-4  0  4  3 -3]\n",
      " [ 1  1 -2  2  2]\n",
      " [-3 -4  4 -1  0]], \n",
      "b \n",
      "[[-4  0 -2 -5  0]\n",
      " [ 0  0  0  0  0]\n",
      " [ 1  0 -2  2  0]\n",
      " [ 0  0  0  0  0]],\n",
      "c \n",
      "[[-4  0 -2 -5  0]\n",
      " [ 0  0  0  0  0]\n",
      " [ 1  0 -2  2  0]\n",
      " [ 0  0  0  0  0]]\n"
     ]
    }
   ],
   "source": [
    "print(' a \\n{}, \\nb \\n{},\\nc \\n{}'.format(a,b,c))"
   ]
  },
  {
   "cell_type": "code",
   "execution_count": null,
   "metadata": {},
   "outputs": [],
   "source": []
  }
 ],
 "metadata": {
  "kernelspec": {
   "display_name": "Python 3",
   "language": "python",
   "name": "python3"
  },
  "language_info": {
   "codemirror_mode": {
    "name": "ipython",
    "version": 3
   },
   "file_extension": ".py",
   "mimetype": "text/x-python",
   "name": "python",
   "nbconvert_exporter": "python",
   "pygments_lexer": "ipython3",
   "version": "3.7.4"
  }
 },
 "nbformat": 4,
 "nbformat_minor": 2
}
