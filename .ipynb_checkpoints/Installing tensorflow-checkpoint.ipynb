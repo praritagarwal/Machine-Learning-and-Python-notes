{
 "cells": [
  {
   "cell_type": "markdown",
   "metadata": {},
   "source": [
    "I had some initial problems with installing tensorflow and getting Jupyter notebooks to be able to access it. The following steps seemed to work for me.  These are based on suggestions/instructions given on the following webpages.\n",
    "\n",
    "1) https://medium.com/@margaretmz/anaconda-jupyter-notebook-tensorflow-and-keras-b91f381405f8\n",
    "\n",
    "2) https://stackoverflow.com/questions/39604271/conda-environments-not-showing-up-in-jupyter-notebook\n",
    "\n",
    "3) https://www.youtube.com/watch?v=CcKf-iZ8umk\n",
    "\n",
    "# make environments automatically available to Jupyter notebooks\n",
    "\n",
    "To begin with I opened the Anaconda command prompt, and installed the package nb_conda_kernels\n",
    "\n",
    "$ conda install nb_conda_kernels\n",
    "\n",
    "This makes all the environments autamatically available to Jupyter notebooks.\n",
    "\n",
    "\n",
    "Next, I created an new environment which I called \"tensorflow_env\".  This is done by using the command \n",
    "\n",
    "# creating a new environment\n",
    "\n",
    "$ conda create -n tensorflow_env\n",
    "\n",
    "We then have to activate the enviroment:\n",
    "\n",
    "# activate the desired enviroment\n",
    "\n",
    "$ activate tensorflow_env\n",
    "\n",
    "In case we wish to delete and environment, then this can be done as follows:\n",
    "\n",
    "# remove a desired enviroment (if needed)\n",
    "\n",
    "$ conda env remove --name tensorflow_env \n",
    "\n",
    "\n",
    "More such commands are given on the 1st link mentioned above and also at \n",
    "\n",
    "https://uoa-eresearch.github.io/eresearch-cookbook/recipe/2014/11/20/conda/\n",
    "\n",
    "\n",
    "We now activate our environment and install the following packages: jupyter, numpy, pandas, scipy, matplotlib, scikit-learn, tensorflow and keras (keras must be installed only after installing tensorflow).\n",
    "\n",
    "Installing jupyter in tensorflow_env is optional. If installed it simply creates a jupyter notebook whose default environment is tensorflow_env. This is not required if we installed nb_conda_kernels in the base environment which makes all the environments accessible through the jupyter notebook of the base environment. \n",
    "\n",
    "# installing packages \n",
    "\n",
    "$ conda install jupyter\n",
    "\n",
    "$ conda install numpy\n",
    "\n",
    "$ conda install pandas\n",
    "\n",
    "$ conda install matplotlib\n",
    "\n",
    "$ conda install scipy\n",
    "\n",
    "$ conda install scikit-learn\n",
    "\n",
    "$ conda install tensorflow\n",
    "\n",
    "$ conda install keras\n",
    "\n",
    "Actually numpy and scipy are automatically installed when installing tensorflow\n",
    "\n"
   ]
  },
  {
   "cell_type": "markdown",
   "metadata": {},
   "source": [
    "At the end of this process my conputer has two jupyter icons. One is called \"Jupyter Notebook\" and the other is called \"Jupyter Notebook (tensorflow_env)\". I think the \"Jupyter Notebook\" icon starts the jupyter notebook in the base environment with the other environment being available to it through the \"Change kernel\" option : Kernel --> Change kernel. The default kernel for any environment is called \"Python3\". On the other hand the \"Jupyter Notebook (tensorflow_env)\" starts the jupyter notebook in the \"tensorflow_env\" environment. It has only the default kernel i.e. Python3. Hence there are no other environments accessible through this. However all the packages installed in the \"tensorflow_env\" environment are available to it. Hence my tensorflow codes run as usual without any problems. "
   ]
  },
  {
   "cell_type": "markdown",
   "metadata": {},
   "source": [
    "(date: 23 March 2019): Looks like somehow some registry entry on my computer got corrupted which caused browser to not show any files when starting the \"Jupyter Notebook (tensorflow_env)\". However the jupyter notebook of the base environment continued to work just fine. I tried to uninstall and reinstall anaconda but the problem persisted. I am sure this is not because of anaconda installation since things were working fine earlier. I think I'll have to delete and reinstall my user account on windows for things to start working again, but for now I am just going to use the base environment's jupyter notebook. Other people who seem to be having the same problem are at the following link:\n",
    "\n",
    "https://github.com/jupyter/notebook/issues/4467\n",
    "\n",
    "I uninstalled jupyter from tensorflow_env and then installed jupyter notebook version 5.7.4 as follows:\n",
    "\n",
    "uninstalling jupyter:\n",
    "\n",
    "$ conda uninstall jupyter\n",
    "\n",
    "installing version 5.7.4:\n",
    "\n",
    "$ conda install -c anaconda notebook=5.7.4\n",
    "\n",
    "This seemed to partially cure the problem. That is the jupyter notebook will load and show files (at times after clearing the cache using crtl+shift+R). However, it seems that it has problems with starting the kernel when I try to run various jupyter notebooks. \n",
    "\n",
    "I simply uninstalled all jupyter notebooks from tensorflow_env and decided to work with the jupyter notebook of the base environment."
   ]
  },
  {
   "cell_type": "markdown",
   "metadata": {},
   "source": [
    "# Caution"
   ]
  },
  {
   "cell_type": "markdown",
   "metadata": {},
   "source": [
    "After creating a new environment, I tried installing \"nb_conda\" and/or \"nb_conda_kernels\" in the new environment. This seemed to totally corrupt the new enviroment with the computer throwing the following error: \"conda' is not recognized as an internal or external command,operable program or batch file\". Thus these two I conclude that \"nb_conda_kernels\" should only be installed in the base environment and not in any other user created environments."
   ]
  },
  {
   "cell_type": "markdown",
   "metadata": {},
   "source": [
    "# Tensorboard\n",
    "\n",
    "As explained on page 329 of Aurelion Geron's book, to start tensorboard, we first need to create the event files where will store the summary data of our model. Tensorboard will read these to display the tensorflow graph etc. This is done by using the operations in tf.summary. Also see the following link:\n",
    "\n",
    "https://www.tensorflow.org/guide/summaries_and_tensorboard\n",
    "\n",
    "Now, in my case I stored all the summary files in a directory called \"tf_logs\" inside the JupyterNotebooks folder. The full path was \"Dropbox/PythonFiles/JupyterNotebooks/tf_logs/\". In principal if everythings else works fine then all one has to do is activate the environment in which tensorflow has been installed (for e.g. tensorflow_env) and then type the following command \n",
    "\n",
    "$ tensorboard --logdir Dropbox/PythonFiles/JupyterNotebooks/tf_logs/\n",
    "\n",
    "this produces the following output:\n",
    "\n",
    "TensorBoard 1.13.1 at http://SurfaceBook-Prarit:6006 (Press CTRL+C to quit)\n",
    "\n",
    "Then navigating to http://SurfaceBook-Prarit:6006 via a browser opens the tensorboard.\n",
    "\n",
    "However, while this had worked for me previously, it stopped working on 23 March 2019 (presumably for the same reason that the jupyter notebook for the tensoflow_env environment stopped showing any files). What did work though was running the tensorboard with the following command:\n",
    "\n",
    "$ tensorboard --logdir Dropbox/PythonFiles/JupyterNotebooks/tf_logs/ --host localhost --port 6006\n",
    "\n",
    "This produced and output:\n",
    "\n",
    "TensorBoard 1.13.1 at http://localhost:6006 (Press CTRL+C to quit)\n",
    "\n",
    "Navigating to http://localhost:6006 using a browser then started tensorboard.\n",
    "\n",
    "\n"
   ]
  }
 ],
 "metadata": {
  "kernelspec": {
   "display_name": "Python 3",
   "language": "python",
   "name": "python3"
  },
  "language_info": {
   "codemirror_mode": {
    "name": "ipython",
    "version": 3
   },
   "file_extension": ".py",
   "mimetype": "text/x-python",
   "name": "python",
   "nbconvert_exporter": "python",
   "pygments_lexer": "ipython3",
   "version": "3.7.1"
  }
 },
 "nbformat": 4,
 "nbformat_minor": 2
}
