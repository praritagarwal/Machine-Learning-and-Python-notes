{
 "cells": [
  {
   "cell_type": "markdown",
   "metadata": {},
   "source": [
    "This more or less a copy of the decision boundary plotting demonstrated in scikit-learn\n",
    "\n",
    "https://scikit-learn.org/stable/auto_examples/linear_model/plot_iris_logistic.html"
   ]
  },
  {
   "cell_type": "code",
   "execution_count": null,
   "metadata": {},
   "outputs": [],
   "source": [
    "# function to plot decision boundaries\n",
    "\n",
    "def decision_boundary(X_data, y_data, estimator):\n",
    "    x1_min=X_data[:,0].min()-0.5\n",
    "    x1_max=X_data[:,0].max()+0.5\n",
    "    x2_min=X_data[:,1].min()-0.5\n",
    "    x2_max=X_data[:,1].max()+0.5\n",
    "    h=0.02\n",
    "    \n",
    "    x1,x2=np.meshgrid(np.arange(x1_min,x1_max,h),np.arange(x2_min,x2_max,h))\n",
    "    XX=np.c_[x1.ravel(),x2.ravel()]\n",
    "    YY=estimator.predict(XX)\n",
    "    \n",
    "    plt.figure()\n",
    "    plt.scatter(XX[:,0],XX[:,1],c=YY,cmap=plt.cm.Paired)\n",
    "    plt.scatter(X_data[:,0],X_data[:,1], c=y_data)\n",
    "    plt.show()"
   ]
  }
 ],
 "metadata": {
  "kernelspec": {
   "display_name": "Python 3",
   "language": "python",
   "name": "python3"
  },
  "language_info": {
   "codemirror_mode": {
    "name": "ipython",
    "version": 3
   },
   "file_extension": ".py",
   "mimetype": "text/x-python",
   "name": "python",
   "nbconvert_exporter": "python",
   "pygments_lexer": "ipython3",
   "version": "3.7.2"
  }
 },
 "nbformat": 4,
 "nbformat_minor": 2
}
