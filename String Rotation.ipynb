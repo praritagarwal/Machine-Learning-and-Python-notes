{
 "cells": [
  {
   "cell_type": "markdown",
   "metadata": {},
   "source": [
    "Exercise 1.9 of Cracking the coding interview:\n",
    "\n",
    "String Rotation: Assume you have a method isSubstring which checks if oneword is a substring of another. Given two strings, sl and s2, write code to check if s2 is a rotation of sl using only one call to isSubstring (e.g., \"waterbottle\" is a rotation of\"erbottlewat\")."
   ]
  },
  {
   "cell_type": "markdown",
   "metadata": {},
   "source": [
    "## solution 1:"
   ]
  },
  {
   "cell_type": "markdown",
   "metadata": {},
   "source": [
    "Bruteforce Solution: I had trouble getting started on this problem. So I first came up with the following bruteforce solution to check if s2 is rotation of s1. This solution does not use isSubstring at all. The logic is to first find the amount by which s1 seems to have been rotated in order to get s2. To do this we iterate through the characters of s1 and compare them to the first character of s2. Let's call the point at which a match is found as 'anchor'. We then check if the substring in s1 following the anchor is identical to the subtring of same length following the first character in s2. If this is not true we continue to look for the next match. On the otherhand, if this is indeed true, then the amount of rotation is given by the anchor. We then match the substring in s1 preceding the anchor to the substring of same length towards the end of s2. The implementation is as follows:"
   ]
  },
  {
   "cell_type": "code",
   "execution_count": 1,
   "metadata": {},
   "outputs": [],
   "source": [
    "# function to find anchor\n",
    "def find_anchor(s1, s2):\n",
    "    l = len(s1)\n",
    "    for acr in range(l):\n",
    "        rem_l = len(s1[acr:])\n",
    "        if s2[:rem_l] == s1[acr:]:\n",
    "            return acr\n",
    "     \n",
    "    return None"
   ]
  },
  {
   "cell_type": "code",
   "execution_count": 9,
   "metadata": {},
   "outputs": [],
   "source": [
    "# function to check if s1 and s2 are rotation of each other\n",
    "def rotationQ1(s1, s2):\n",
    "\n",
    "    if len(s1)!=len(s2):\n",
    "        return False\n",
    "\n",
    "    acr = find_anchor(s1, s2)\n",
    "    \n",
    "    if acr == None:\n",
    "        return False\n",
    "\n",
    "    rem_l = len(s1[acr:])\n",
    "    if s2[rem_l:] == s1[:acr]:\n",
    "        return True\n",
    "\n",
    "    else:\n",
    "        return False "
   ]
  },
  {
   "cell_type": "code",
   "execution_count": 6,
   "metadata": {},
   "outputs": [
    {
     "data": {
      "text/plain": [
       "True"
      ]
     },
     "execution_count": 6,
     "metadata": {},
     "output_type": "execute_result"
    }
   ],
   "source": [
    "s1 = 'waterbottle'\n",
    "s2 = 'ewaterbottl'\n",
    "rotationQ(s1,s2)"
   ]
  },
  {
   "cell_type": "markdown",
   "metadata": {},
   "source": [
    "## Solution 2: \n",
    "\n",
    "This based on hint #104 in the book. This is based on the following observation, if s1 and s2 are rotation of each other, then both can be split into two substrings x and y such that s1 = xy and s2 = yx. Then concatenating s2 with itself gives s2double = yxyx. Thus we see that s1 is necessarily is a substring of s2double. Thus the assertion is \n",
    "\n",
    "s2 rotation of s1 => s1 is substring of s2double\n",
    "\n",
    "Obviously, the converse is also true i.e. \n",
    "\n",
    "s1 is substring of s2double => s2 is rotation of s1\n",
    "\n",
    "We can now implement this as follows:"
   ]
  },
  {
   "cell_type": "code",
   "execution_count": 8,
   "metadata": {},
   "outputs": [],
   "source": [
    "def RotationQ2(s1, s2):\n",
    "\n",
    "    if len(s1)!= len(s2):\n",
    "        return False\n",
    "\n",
    "    s2double = ''.join([s2, s2])\n",
    "    return isSubstring(s2double, s1)"
   ]
  },
  {
   "cell_type": "code",
   "execution_count": 10,
   "metadata": {},
   "outputs": [],
   "source": [
    "# check if s2 is a substring of s1\n",
    "# we could have also implemented this using s1.find(s2) which \n",
    "# returns the position of s2 in s1 if present, else returns -1\n",
    "def isSubstring(s1, s2):\n",
    "    return s2 in s1"
   ]
  },
  {
   "cell_type": "code",
   "execution_count": 12,
   "metadata": {},
   "outputs": [
    {
     "data": {
      "text/plain": [
       "True"
      ]
     },
     "execution_count": 12,
     "metadata": {},
     "output_type": "execute_result"
    }
   ],
   "source": [
    "s1 = 'waterbottle'\n",
    "s2 = 'ewaterbottl'\n",
    "rotationQ(s1,s2)"
   ]
  },
  {
   "cell_type": "code",
   "execution_count": null,
   "metadata": {},
   "outputs": [],
   "source": []
  }
 ],
 "metadata": {
  "kernelspec": {
   "display_name": "Python 3",
   "language": "python",
   "name": "python3"
  },
  "language_info": {
   "codemirror_mode": {
    "name": "ipython",
    "version": 3
   },
   "file_extension": ".py",
   "mimetype": "text/x-python",
   "name": "python",
   "nbconvert_exporter": "python",
   "pygments_lexer": "ipython3",
   "version": "3.7.4"
  }
 },
 "nbformat": 4,
 "nbformat_minor": 2
}
