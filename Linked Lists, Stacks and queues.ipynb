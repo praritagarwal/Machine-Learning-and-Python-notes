{
 "cells": [
  {
   "cell_type": "markdown",
   "metadata": {},
   "source": [
    "# Linked List"
   ]
  },
  {
   "cell_type": "code",
   "execution_count": 1,
   "metadata": {},
   "outputs": [],
   "source": [
    "# each element of a linked list consists of \n",
    "# (a) a value (b) a pointer to the next element\n",
    "# note that variables in python automatically act as pointers (https://www.quora.com/What-is-the-pointer-in-Python-Does-a-pointer-exist-in-Python)\n",
    "# define a class for linked list elements\n",
    "\n",
    "class Element():\n",
    "    ''' class to create a linked list element'''\n",
    "    def __init__(self, val=None, next_el= None):\n",
    "        self.value=val\n",
    "        self.next_el=next_el\n",
    "    "
   ]
  },
  {
   "cell_type": "code",
   "execution_count": 280,
   "metadata": {},
   "outputs": [],
   "source": [
    "class LinkedList():\n",
    "    \n",
    "    def __init__(self, head=None):\n",
    "        self.head=None\n",
    "        \n",
    "    def append(self, element):\n",
    "        '''function to append an element at the end of the linked list'''\n",
    "        current=self.head\n",
    "        if self.head: # i.e. if self.head is not none\n",
    "            \n",
    "            while current.next_el: # i.e. while current.next is not none\n",
    "                current=current.next_el\n",
    "            # current is the last element of the list when the while loop finishes    \n",
    "            \n",
    "            current.next_el=element\n",
    "        else:\n",
    "            self.head=element\n",
    "    \n",
    "    def list_elements(self):\n",
    "        '''function to list the elements of the linked list'''\n",
    "        if self.head: # i.e. if self.head is not none\n",
    "            current=self.head\n",
    "            while current:\n",
    "                print(current.value)\n",
    "                current=current.next_el\n",
    "        else:\n",
    "            print('This is an empty linked list!')\n",
    "            \n",
    "    \n",
    "    def insert(self, element, position):\n",
    "        '''function to insert the given element at the given position in the linked list. \n",
    "           The first element of the linked list is assumed to be at position 1.\n",
    "           If the linked list has n elements, then position has to be an integer ranging from 1 to n+1.\n",
    "           If position is n+1, then this is same as inserting the element at the end of the list.'''\n",
    "        if position <1:\n",
    "            print('position has to be an integer greater than 1')\n",
    "            return \n",
    "        \n",
    "        if position==1:\n",
    "            element.next_el=self.head\n",
    "            self.head=element\n",
    "            return \n",
    "        \n",
    "        if self.head: # i.e. if self.head is not none \n",
    "            current=self.head\n",
    "            for pos in range(position-2): \n",
    "                # if element is to be inserted at k-th position, then the loop will be executed k-2 times\n",
    "                # in each execution the current element will be moved by one step across the list\n",
    "                # since it was already at the head even before the loop started, after 1 step, it will be at the second position\n",
    "                # similarly, after k-2 steps, it will be at the (k-1)-th, which the position right before the place ...\n",
    "                #  ... where the new element is to be inserted\n",
    "                \n",
    "                current =current.next_el\n",
    "                \n",
    "                if current==None:\n",
    "                    print('position is out of allowed range')\n",
    "                    return \n",
    "                \n",
    "               \n",
    "                \n",
    "            element.next_el=current.next_el\n",
    "            current.next_el=element\n",
    "            \n",
    "    \n",
    "    def length(self):\n",
    "        '''function to return the length of the linked list'''\n",
    "        length=0\n",
    "        current=self.head\n",
    "        while current:\n",
    "            length+=1\n",
    "            current=current.next_el\n",
    "            \n",
    "        return length\n",
    "        \n",
    "        \n",
    "        \n",
    "        \n",
    "    def delete_pos(self, position):\n",
    "        '''function to delete the element at a given position. \n",
    "           The first element is at position 1. \n",
    "           If the linked list has n-elements, then position has to range from 1 to n'''\n",
    "        \n",
    "        if position <1:\n",
    "            print('position has to be an integer greater than 1')\n",
    "            return\n",
    "              \n",
    "        if self.head:\n",
    "            if position ==1:\n",
    "                current=self.head\n",
    "                self.head=current.next_el\n",
    "                current.next_el=None\n",
    "                return\n",
    "            \n",
    "            current=self.head\n",
    "            for pos in range(position-2):\n",
    "                \n",
    "                current=current.next_el\n",
    "                \n",
    "                if current.next_el==None:\n",
    "                    print('position is out of allowed range')\n",
    "                    return\n",
    "                \n",
    "                \n",
    "            \n",
    "            \n",
    "            del_el = current.next_el\n",
    "            current.next_el=del_el.next_el\n",
    "            del_el.next_el=None\n",
    "            del_el.value=None\n",
    "            \n",
    "            \n",
    "    def delete_val(self, value):\n",
    "        '''function to delete the first element which carries the given value '''\n",
    "        \n",
    "        pos=1\n",
    "        current = self.head\n",
    "        deleted=False\n",
    "        \n",
    "        if current.value==value:\n",
    "            self.head=current.next_el\n",
    "            current.value=None\n",
    "            current.next_el=None\n",
    "            deleted=True\n",
    "        else:\n",
    "            while current:\n",
    "                pos+=1\n",
    "                if current.next_el.value==value:\n",
    "                    del_el=current.next_el\n",
    "                    current.next_el=del_el.next_el\n",
    "                    del_el.value=None\n",
    "                    del_el.next_el=None\n",
    "                    deleted=True\n",
    "                    break\n",
    "                \n",
    "                current = current.next_el\n",
    "                \n",
    "            \n",
    "            \n",
    "        \n",
    "        if deleted == False:\n",
    "            print('The given value was not found in the linked list')\n",
    "        else:\n",
    "            print('The element to be deleted was found at position:{}'.format(pos))\n",
    "    "
   ]
  },
  {
   "cell_type": "markdown",
   "metadata": {},
   "source": [
    "## testing linked list"
   ]
  },
  {
   "cell_type": "code",
   "execution_count": 281,
   "metadata": {},
   "outputs": [],
   "source": [
    "tr=LinkedList()"
   ]
  },
  {
   "cell_type": "code",
   "execution_count": 282,
   "metadata": {},
   "outputs": [
    {
     "name": "stdout",
     "output_type": "stream",
     "text": [
      "This is an empty linked list!\n"
     ]
    },
    {
     "data": {
      "text/plain": [
       "0"
      ]
     },
     "execution_count": 282,
     "metadata": {},
     "output_type": "execute_result"
    }
   ],
   "source": [
    "tr.list_elements()\n",
    "tr.length()"
   ]
  },
  {
   "cell_type": "code",
   "execution_count": 283,
   "metadata": {},
   "outputs": [
    {
     "name": "stdout",
     "output_type": "stream",
     "text": [
      "0\n"
     ]
    },
    {
     "data": {
      "text/plain": [
       "1"
      ]
     },
     "execution_count": 283,
     "metadata": {},
     "output_type": "execute_result"
    }
   ],
   "source": [
    "tr.insert(Element(0),1)\n",
    "tr.list_elements()\n",
    "tr.length()"
   ]
  },
  {
   "cell_type": "code",
   "execution_count": 284,
   "metadata": {},
   "outputs": [
    {
     "name": "stdout",
     "output_type": "stream",
     "text": [
      "0\n",
      "0\n"
     ]
    },
    {
     "data": {
      "text/plain": [
       "2"
      ]
     },
     "execution_count": 284,
     "metadata": {},
     "output_type": "execute_result"
    }
   ],
   "source": [
    "tr.append(Element(0))\n",
    "tr.list_elements()\n",
    "tr.length()"
   ]
  },
  {
   "cell_type": "code",
   "execution_count": 285,
   "metadata": {},
   "outputs": [
    {
     "name": "stdout",
     "output_type": "stream",
     "text": [
      "0\n",
      "0\n",
      "0\n"
     ]
    },
    {
     "data": {
      "text/plain": [
       "3"
      ]
     },
     "execution_count": 285,
     "metadata": {},
     "output_type": "execute_result"
    }
   ],
   "source": [
    "tr.append(Element(0))\n",
    "tr.list_elements()\n",
    "tr.length()"
   ]
  },
  {
   "cell_type": "code",
   "execution_count": 286,
   "metadata": {},
   "outputs": [],
   "source": [
    "tr.append(Element(val=2))"
   ]
  },
  {
   "cell_type": "code",
   "execution_count": 287,
   "metadata": {},
   "outputs": [
    {
     "name": "stdout",
     "output_type": "stream",
     "text": [
      "0\n",
      "0\n",
      "0\n",
      "2\n"
     ]
    },
    {
     "data": {
      "text/plain": [
       "4"
      ]
     },
     "execution_count": 287,
     "metadata": {},
     "output_type": "execute_result"
    }
   ],
   "source": [
    "tr.list_elements()\n",
    "tr.length()"
   ]
  },
  {
   "cell_type": "code",
   "execution_count": 288,
   "metadata": {},
   "outputs": [
    {
     "name": "stdout",
     "output_type": "stream",
     "text": [
      "1\n",
      "0\n",
      "0\n",
      "0\n",
      "2\n"
     ]
    },
    {
     "data": {
      "text/plain": [
       "5"
      ]
     },
     "execution_count": 288,
     "metadata": {},
     "output_type": "execute_result"
    }
   ],
   "source": [
    "tr.insert(Element(1),1)\n",
    "tr.list_elements()\n",
    "tr.length()"
   ]
  },
  {
   "cell_type": "code",
   "execution_count": 289,
   "metadata": {},
   "outputs": [
    {
     "name": "stdout",
     "output_type": "stream",
     "text": [
      "1\n",
      "0\n",
      "1\n",
      "0\n",
      "0\n",
      "2\n"
     ]
    },
    {
     "data": {
      "text/plain": [
       "6"
      ]
     },
     "execution_count": 289,
     "metadata": {},
     "output_type": "execute_result"
    }
   ],
   "source": [
    "tr.insert(Element(1),3)\n",
    "tr.list_elements()\n",
    "tr.length()"
   ]
  },
  {
   "cell_type": "code",
   "execution_count": 290,
   "metadata": {},
   "outputs": [
    {
     "name": "stdout",
     "output_type": "stream",
     "text": [
      "1\n",
      "0\n",
      "1\n",
      "0\n",
      "1\n",
      "0\n",
      "2\n"
     ]
    },
    {
     "data": {
      "text/plain": [
       "7"
      ]
     },
     "execution_count": 290,
     "metadata": {},
     "output_type": "execute_result"
    }
   ],
   "source": [
    "tr.insert(Element(1),5)\n",
    "tr.list_elements()\n",
    "tr.length()"
   ]
  },
  {
   "cell_type": "code",
   "execution_count": 291,
   "metadata": {},
   "outputs": [
    {
     "name": "stdout",
     "output_type": "stream",
     "text": [
      "1\n",
      "0\n",
      "1\n",
      "0\n",
      "1\n",
      "0\n",
      "1\n",
      "2\n"
     ]
    },
    {
     "data": {
      "text/plain": [
       "8"
      ]
     },
     "execution_count": 291,
     "metadata": {},
     "output_type": "execute_result"
    }
   ],
   "source": [
    "tr.insert(Element(1),7)\n",
    "tr.list_elements()\n",
    "tr.length()"
   ]
  },
  {
   "cell_type": "code",
   "execution_count": 292,
   "metadata": {},
   "outputs": [
    {
     "data": {
      "text/plain": [
       "9"
      ]
     },
     "execution_count": 292,
     "metadata": {},
     "output_type": "execute_result"
    }
   ],
   "source": [
    "tr.insert(Element(1),9)\n",
    "tr.length()"
   ]
  },
  {
   "cell_type": "code",
   "execution_count": 293,
   "metadata": {},
   "outputs": [
    {
     "name": "stdout",
     "output_type": "stream",
     "text": [
      "2\n",
      "1\n",
      "0\n",
      "1\n",
      "0\n",
      "1\n",
      "0\n",
      "1\n",
      "2\n",
      "1\n"
     ]
    },
    {
     "data": {
      "text/plain": [
       "10"
      ]
     },
     "execution_count": 293,
     "metadata": {},
     "output_type": "execute_result"
    }
   ],
   "source": [
    "tr.insert(Element(2),1)\n",
    "tr.list_elements()\n",
    "tr.length()"
   ]
  },
  {
   "cell_type": "code",
   "execution_count": 294,
   "metadata": {},
   "outputs": [
    {
     "name": "stdout",
     "output_type": "stream",
     "text": [
      "The element to be deleted was found at position:2\n",
      "2\n",
      "0\n",
      "1\n",
      "0\n",
      "1\n",
      "0\n",
      "1\n",
      "2\n",
      "1\n"
     ]
    },
    {
     "data": {
      "text/plain": [
       "9"
      ]
     },
     "execution_count": 294,
     "metadata": {},
     "output_type": "execute_result"
    }
   ],
   "source": [
    "tr.delete_val(1)\n",
    "tr.list_elements()\n",
    "tr.length()"
   ]
  },
  {
   "cell_type": "code",
   "execution_count": 295,
   "metadata": {},
   "outputs": [
    {
     "name": "stdout",
     "output_type": "stream",
     "text": [
      "2\n",
      "1\n",
      "0\n",
      "1\n",
      "0\n",
      "1\n",
      "2\n",
      "1\n"
     ]
    },
    {
     "data": {
      "text/plain": [
       "8"
      ]
     },
     "execution_count": 295,
     "metadata": {},
     "output_type": "execute_result"
    }
   ],
   "source": [
    "tr.delete_pos(2)\n",
    "tr.list_elements()\n",
    "tr.length()"
   ]
  },
  {
   "cell_type": "code",
   "execution_count": 296,
   "metadata": {},
   "outputs": [
    {
     "name": "stdout",
     "output_type": "stream",
     "text": [
      "2\n",
      "1\n",
      "0\n",
      "0\n",
      "1\n",
      "2\n",
      "1\n"
     ]
    },
    {
     "data": {
      "text/plain": [
       "7"
      ]
     },
     "execution_count": 296,
     "metadata": {},
     "output_type": "execute_result"
    }
   ],
   "source": [
    "tr.delete_pos(4)\n",
    "tr.list_elements()\n",
    "tr.length()"
   ]
  },
  {
   "cell_type": "code",
   "execution_count": 297,
   "metadata": {},
   "outputs": [
    {
     "name": "stdout",
     "output_type": "stream",
     "text": [
      "position has to be an integer greater than 1\n"
     ]
    },
    {
     "data": {
      "text/plain": [
       "7"
      ]
     },
     "execution_count": 297,
     "metadata": {},
     "output_type": "execute_result"
    }
   ],
   "source": [
    "tr.delete_pos(0)\n",
    "tr.length()"
   ]
  },
  {
   "cell_type": "markdown",
   "metadata": {},
   "source": [
    "# Stack"
   ]
  },
  {
   "cell_type": "markdown",
   "metadata": {},
   "source": [
    "- Also see python documentation [here](https://docs.python.org/2/tutorial/datastructures.html#using-lists-as-stacks) to learn how to use lists as stacks"
   ]
  },
  {
   "cell_type": "code",
   "execution_count": 336,
   "metadata": {},
   "outputs": [],
   "source": [
    "# we can use the linked list defined earlier to create a stack\n",
    "# the stack class will have the following methods:\n",
    "  # push: push an element to the stack\n",
    "  # pop: pop the top most element of the stack\n",
    "  # delete_first: delete the top most element of the stack\n",
    "    \n",
    "class stack():\n",
    "    '''class to create a stack based on the LinkedList class'''\n",
    "    def __init__(self, element=None):\n",
    "        self.ll=LinkedList(element)\n",
    "        \n",
    "    \n",
    "    def push(self, element):\n",
    "        ''' function to a push a new element into the stack'''\n",
    "        self.ll.insert(element, 1)\n",
    "        \n",
    "    \n",
    "    def delete_first(self):\n",
    "        '''function to the delete the top-most element from the stack'''\n",
    "        if self.ll.head==None:\n",
    "            print('This is an empty stack')\n",
    "            return\n",
    "        self.ll.delete_pos(1)\n",
    "    \n",
    "    def pop(self):\n",
    "        '''function to pop the top most element form the stack'''\n",
    "        if self.ll.head==None:\n",
    "            print('This is an empty stack')\n",
    "            return\n",
    "        \n",
    "        val=self.ll.head.value\n",
    "        self.delete_first()\n",
    "        return val\n"
   ]
  },
  {
   "cell_type": "code",
   "execution_count": 345,
   "metadata": {},
   "outputs": [],
   "source": [
    "# creating an empty stack\n",
    "st=stack()"
   ]
  },
  {
   "cell_type": "code",
   "execution_count": 346,
   "metadata": {},
   "outputs": [],
   "source": [
    "st.push(Element(1))\n",
    "st.push(Element(2))\n",
    "st.push(Element(3))\n",
    "st.push(Element(5))\n",
    "st.push(Element(4))"
   ]
  },
  {
   "cell_type": "code",
   "execution_count": 347,
   "metadata": {},
   "outputs": [
    {
     "data": {
      "text/plain": [
       "4"
      ]
     },
     "execution_count": 347,
     "metadata": {},
     "output_type": "execute_result"
    }
   ],
   "source": [
    "# output should be 4\n",
    "st.pop()"
   ]
  },
  {
   "cell_type": "code",
   "execution_count": 348,
   "metadata": {},
   "outputs": [],
   "source": [
    "st.delete_first()"
   ]
  },
  {
   "cell_type": "code",
   "execution_count": 349,
   "metadata": {
    "scrolled": true
   },
   "outputs": [
    {
     "data": {
      "text/plain": [
       "3"
      ]
     },
     "execution_count": 349,
     "metadata": {},
     "output_type": "execute_result"
    }
   ],
   "source": [
    "# output should be 3\n",
    "st.pop()"
   ]
  },
  {
   "cell_type": "markdown",
   "metadata": {},
   "source": [
    "# Queues and Deques"
   ]
  },
  {
   "cell_type": "markdown",
   "metadata": {},
   "source": [
    "- deque is best implemented through python library called collections\n",
    "- see [here](https://docs.python.org/2/tutorial/datastructures.html#using-lists-as-stacks) for an example"
   ]
  },
  {
   "cell_type": "code",
   "execution_count": 350,
   "metadata": {},
   "outputs": [],
   "source": [
    "from collections import deque"
   ]
  }
 ],
 "metadata": {
  "kernelspec": {
   "display_name": "Python 3",
   "language": "python",
   "name": "python3"
  },
  "language_info": {
   "codemirror_mode": {
    "name": "ipython",
    "version": 3
   },
   "file_extension": ".py",
   "mimetype": "text/x-python",
   "name": "python",
   "nbconvert_exporter": "python",
   "pygments_lexer": "ipython3",
   "version": "3.7.1"
  }
 },
 "nbformat": 4,
 "nbformat_minor": 2
}
