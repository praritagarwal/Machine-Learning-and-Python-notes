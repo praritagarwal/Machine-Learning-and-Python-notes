{
 "cells": [
  {
   "cell_type": "markdown",
   "metadata": {},
   "source": [
    "Exercise 1.6 from Cracking the Coding Interview:\n",
    "\n",
    "Implement a method to perform basic string compression using the counts of repeated characters. For example, the string aabcccccaaa would become a2blc5a3. If the \"compressed\" string would not become smaller than the original string, your method should return the original string. You can assume the string has only uppercase and lowercase letters (a - z)."
   ]
  },
  {
   "cell_type": "markdown",
   "metadata": {},
   "source": [
    "We will solve this in two ways encapsulated in our functions compress1 and compress2"
   ]
  },
  {
   "cell_type": "code",
   "execution_count": 17,
   "metadata": {},
   "outputs": [],
   "source": [
    "# Note that the underlying assumption in the code for this function is that \n",
    "# if there are consecutive repeated characters in the string, then \n",
    "# the compressed string is going to be smaller than the original string. \n",
    "# This assumption fails for e.g. when the original string is 'aab', \n",
    "# the compressed string will then be 'a2b1' \n",
    "# which is actually longer than the original string and \n",
    "# hence not a compression of the original string. \n",
    "def compress1(s):\n",
    "    compressed_string = ''\n",
    "    current_char = s[0]\n",
    "    count = 1\n",
    "    compressed = False\n",
    "    for idx in range(1, len(s)):\n",
    "        if s[idx] == current_char:\n",
    "            count+=1\n",
    "            compressed = True\n",
    "        else:\n",
    "            compressed_string+= current_char + str(count)\n",
    "            current_char = s[idx]\n",
    "            count = 1\n",
    "     \n",
    "    compressed_string+= current_char + str(count)\n",
    "    if compressed:\n",
    "        return compressed_string\n",
    "    return s\n"
   ]
  },
  {
   "cell_type": "code",
   "execution_count": 18,
   "metadata": {},
   "outputs": [],
   "source": [
    "# this function only returns the compressed string if its length is smaller than the original string\n",
    "# hence ensuring that it always returns the smaller string\n",
    "def compress2(s):\n",
    "    compressed_string = ''\n",
    "    current_char = s[0]\n",
    "    count = 1\n",
    "    for idx in range(1, len(s)):\n",
    "        if s[idx] == current_char:\n",
    "            count+=1\n",
    "        else:\n",
    "            compressed_string+=current_char + str(count)\n",
    "            current_char = s[idx]\n",
    "            count = 1\n",
    "     \n",
    "    compressed_string+=current_char + str(count)\n",
    "    if len(compressed_string) <  len(s):\n",
    "        return compressed_string\n",
    "    return s"
   ]
  },
  {
   "cell_type": "code",
   "execution_count": 24,
   "metadata": {},
   "outputs": [
    {
     "name": "stdout",
     "output_type": "stream",
     "text": [
      "input a string to compress: aa\n",
      "compressed string from method 1: a2\n",
      "compressed string from method 2: aa\n"
     ]
    }
   ],
   "source": [
    "s = input('input a string to compress: ')\n",
    "print('compressed string from method 1: {}'.format(compress1(s)))\n",
    "print('compressed string from method 2: {}'.format(compress2(s)))"
   ]
  },
  {
   "cell_type": "code",
   "execution_count": null,
   "metadata": {},
   "outputs": [],
   "source": []
  }
 ],
 "metadata": {
  "kernelspec": {
   "display_name": "Python 3",
   "language": "python",
   "name": "python3"
  },
  "language_info": {
   "codemirror_mode": {
    "name": "ipython",
    "version": 3
   },
   "file_extension": ".py",
   "mimetype": "text/x-python",
   "name": "python",
   "nbconvert_exporter": "python",
   "pygments_lexer": "ipython3",
   "version": "3.7.4"
  }
 },
 "nbformat": 4,
 "nbformat_minor": 2
}
